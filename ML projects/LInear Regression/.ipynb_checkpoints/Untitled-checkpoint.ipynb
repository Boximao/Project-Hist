{
 "cells": [
  {
   "cell_type": "markdown",
   "metadata": {},
   "source": [
    "### Che-Wei Yeh\n",
    "### Github ID: Boximao\n",
    "### USCID: 7415538737"
   ]
  },
  {
   "cell_type": "markdown",
   "metadata": {},
   "source": [
    "# 1"
   ]
  },
  {
   "cell_type": "markdown",
   "metadata": {},
   "source": [
    "## (a)"
   ]
  },
  {
   "cell_type": "code",
   "execution_count": 2,
   "metadata": {},
   "outputs": [],
   "source": [
    "import pandas as pd\n",
    "import numpy as np\n",
    "import matplotlib.pyplot as plt\n",
    "import seaborn as sns\n",
    "from sklearn.linear_model import LinearRegression\n",
    "from scipy import stats\n",
    "from scipy.stats import ttest_ind\n",
    "from sklearn import datasets, linear_model\n",
    "from sklearn.metrics import mean_absolute_error,mean_squared_error\n",
    "from sklearn.model_selection import train_test_split\n",
    "import statsmodels.api as sm\n",
    "from sklearn import preprocessing\n",
    "from matplotlib import image"
   ]
  },
  {
   "cell_type": "code",
   "execution_count": 264,
   "metadata": {},
   "outputs": [
    {
     "data": {
      "text/html": [
       "<div>\n",
       "<style scoped>\n",
       "    .dataframe tbody tr th:only-of-type {\n",
       "        vertical-align: middle;\n",
       "    }\n",
       "\n",
       "    .dataframe tbody tr th {\n",
       "        vertical-align: top;\n",
       "    }\n",
       "\n",
       "    .dataframe thead th {\n",
       "        text-align: right;\n",
       "    }\n",
       "</style>\n",
       "<table border=\"1\" class=\"dataframe\">\n",
       "  <thead>\n",
       "    <tr style=\"text-align: right;\">\n",
       "      <th></th>\n",
       "      <th>AT</th>\n",
       "      <th>V</th>\n",
       "      <th>AP</th>\n",
       "      <th>RH</th>\n",
       "      <th>PE</th>\n",
       "    </tr>\n",
       "  </thead>\n",
       "  <tbody>\n",
       "    <tr>\n",
       "      <th>0</th>\n",
       "      <td>14.96</td>\n",
       "      <td>41.76</td>\n",
       "      <td>1024.07</td>\n",
       "      <td>73.17</td>\n",
       "      <td>463.26</td>\n",
       "    </tr>\n",
       "    <tr>\n",
       "      <th>1</th>\n",
       "      <td>25.18</td>\n",
       "      <td>62.96</td>\n",
       "      <td>1020.04</td>\n",
       "      <td>59.08</td>\n",
       "      <td>444.37</td>\n",
       "    </tr>\n",
       "    <tr>\n",
       "      <th>2</th>\n",
       "      <td>5.11</td>\n",
       "      <td>39.40</td>\n",
       "      <td>1012.16</td>\n",
       "      <td>92.14</td>\n",
       "      <td>488.56</td>\n",
       "    </tr>\n",
       "    <tr>\n",
       "      <th>3</th>\n",
       "      <td>20.86</td>\n",
       "      <td>57.32</td>\n",
       "      <td>1010.24</td>\n",
       "      <td>76.64</td>\n",
       "      <td>446.48</td>\n",
       "    </tr>\n",
       "    <tr>\n",
       "      <th>4</th>\n",
       "      <td>10.82</td>\n",
       "      <td>37.50</td>\n",
       "      <td>1009.23</td>\n",
       "      <td>96.62</td>\n",
       "      <td>473.90</td>\n",
       "    </tr>\n",
       "  </tbody>\n",
       "</table>\n",
       "</div>"
      ],
      "text/plain": [
       "      AT      V       AP     RH      PE\n",
       "0  14.96  41.76  1024.07  73.17  463.26\n",
       "1  25.18  62.96  1020.04  59.08  444.37\n",
       "2   5.11  39.40  1012.16  92.14  488.56\n",
       "3  20.86  57.32  1010.24  76.64  446.48\n",
       "4  10.82  37.50  1009.23  96.62  473.90"
      ]
     },
     "execution_count": 264,
     "metadata": {},
     "output_type": "execute_result"
    }
   ],
   "source": [
    "raw_data=pd.read_excel('Folds5x2_pp.xlsx',sheet_name=0)\n",
    "data=raw_data.copy()\n",
    "data.head()"
   ]
  },
  {
   "cell_type": "markdown",
   "metadata": {},
   "source": [
    "## (b)"
   ]
  },
  {
   "cell_type": "markdown",
   "metadata": {},
   "source": [
    "### (i)"
   ]
  },
  {
   "cell_type": "code",
   "execution_count": 266,
   "metadata": {},
   "outputs": [
    {
     "data": {
      "text/plain": [
       "9568"
      ]
     },
     "execution_count": 266,
     "metadata": {},
     "output_type": "execute_result"
    }
   ],
   "source": [
    "df=pd.DataFrame(data)\n",
    "rows=len(df.axes[0])\n",
    "rows"
   ]
  },
  {
   "cell_type": "code",
   "execution_count": 173,
   "metadata": {},
   "outputs": [
    {
     "data": {
      "text/plain": [
       "5"
      ]
     },
     "execution_count": 173,
     "metadata": {},
     "output_type": "execute_result"
    }
   ],
   "source": [
    "columns=len(df.axes[1])\n",
    "columns"
   ]
  },
  {
   "cell_type": "code",
   "execution_count": 174,
   "metadata": {},
   "outputs": [
    {
     "data": {
      "text/html": [
       "<div>\n",
       "<style scoped>\n",
       "    .dataframe tbody tr th:only-of-type {\n",
       "        vertical-align: middle;\n",
       "    }\n",
       "\n",
       "    .dataframe tbody tr th {\n",
       "        vertical-align: top;\n",
       "    }\n",
       "\n",
       "    .dataframe thead th {\n",
       "        text-align: right;\n",
       "    }\n",
       "</style>\n",
       "<table border=\"1\" class=\"dataframe\">\n",
       "  <thead>\n",
       "    <tr style=\"text-align: right;\">\n",
       "      <th></th>\n",
       "      <th>AT</th>\n",
       "      <th>V</th>\n",
       "      <th>AP</th>\n",
       "      <th>RH</th>\n",
       "      <th>PE</th>\n",
       "    </tr>\n",
       "  </thead>\n",
       "  <tbody>\n",
       "    <tr>\n",
       "      <th>0</th>\n",
       "      <td>14.96</td>\n",
       "      <td>41.76</td>\n",
       "      <td>1024.07</td>\n",
       "      <td>73.17</td>\n",
       "      <td>463.26</td>\n",
       "    </tr>\n",
       "    <tr>\n",
       "      <th>1</th>\n",
       "      <td>25.18</td>\n",
       "      <td>62.96</td>\n",
       "      <td>1020.04</td>\n",
       "      <td>59.08</td>\n",
       "      <td>444.37</td>\n",
       "    </tr>\n",
       "    <tr>\n",
       "      <th>2</th>\n",
       "      <td>5.11</td>\n",
       "      <td>39.40</td>\n",
       "      <td>1012.16</td>\n",
       "      <td>92.14</td>\n",
       "      <td>488.56</td>\n",
       "    </tr>\n",
       "    <tr>\n",
       "      <th>3</th>\n",
       "      <td>20.86</td>\n",
       "      <td>57.32</td>\n",
       "      <td>1010.24</td>\n",
       "      <td>76.64</td>\n",
       "      <td>446.48</td>\n",
       "    </tr>\n",
       "    <tr>\n",
       "      <th>4</th>\n",
       "      <td>10.82</td>\n",
       "      <td>37.50</td>\n",
       "      <td>1009.23</td>\n",
       "      <td>96.62</td>\n",
       "      <td>473.90</td>\n",
       "    </tr>\n",
       "  </tbody>\n",
       "</table>\n",
       "</div>"
      ],
      "text/plain": [
       "      AT      V       AP     RH      PE\n",
       "0  14.96  41.76  1024.07  73.17  463.26\n",
       "1  25.18  62.96  1020.04  59.08  444.37\n",
       "2   5.11  39.40  1012.16  92.14  488.56\n",
       "3  20.86  57.32  1010.24  76.64  446.48\n",
       "4  10.82  37.50  1009.23  96.62  473.90"
      ]
     },
     "execution_count": 174,
     "metadata": {},
     "output_type": "execute_result"
    }
   ],
   "source": [
    "df.head()"
   ]
  },
  {
   "cell_type": "code",
   "execution_count": 175,
   "metadata": {},
   "outputs": [
    {
     "name": "stdout",
     "output_type": "stream",
     "text": [
      "Rows represents number of hourly averaged ambient variables collected.\n",
      "Columns represent Temperature (AT), Ambient Pressure (AP),Relative Humidity (RH) and Exhaust Vacuum (V) and net hourly electrical energy output (PE) of the plant.\n"
     ]
    }
   ],
   "source": [
    "print('Rows represents number of hourly averaged ambient variables collected.')\n",
    "print('Columns represent Temperature (AT), Ambient Pressure (AP),Relative Humidity (RH) and Exhaust Vacuum (V) and net hourly electrical energy output (PE) of the plant.')"
   ]
  },
  {
   "cell_type": "markdown",
   "metadata": {},
   "source": [
    "### (ii)"
   ]
  },
  {
   "cell_type": "code",
   "execution_count": 176,
   "metadata": {},
   "outputs": [],
   "source": [
    "x=df.drop(['PE'],axis=1)\n",
    "y=df.PE"
   ]
  },
  {
   "cell_type": "code",
   "execution_count": 177,
   "metadata": {},
   "outputs": [
    {
     "data": {
      "text/plain": [
       "Text(0.1, -0.1, 'Temperature is inversely proportional to the electrical energy output.')"
      ]
     },
     "execution_count": 177,
     "metadata": {},
     "output_type": "execute_result"
    },
    {
     "data": {
      "image/png": "[encoded data removed]",
      "text/plain": [
       "<Figure size 432x288 with 1 Axes>"
      ]
     },
     "metadata": {
      "needs_background": "light"
     },
     "output_type": "display_data"
    }
   ],
   "source": [
    "plt.scatter(x=df.AT,y=df.PE)\n",
    "plt.xlabel('Temperature')\n",
    "plt.ylabel('Electrical Energy Output')\n",
    "plt.figtext(x=0.1,y=-0.1,s='Temperature is inversely proportional to the electrical energy output.')"
   ]
  },
  {
   "cell_type": "code",
   "execution_count": 178,
   "metadata": {},
   "outputs": [
    {
     "data": {
      "text/plain": [
       "Text(0.1, -0.1, 'Exhaust Vacuum is inversely proportional to the electrical energy output, but the relationship is not as strong as the first one.')"
      ]
     },
     "execution_count": 178,
     "metadata": {},
     "output_type": "execute_result"
    },
    {
     "data": {
      "image/png": "[encoded data removed]",
      "text/plain": [
       "<Figure size 432x288 with 1 Axes>"
      ]
     },
     "metadata": {
      "needs_background": "light"
     },
     "output_type": "display_data"
    }
   ],
   "source": [
    "plt.scatter(x=df.V,y=df.PE)\n",
    "plt.xlabel('Exhaust Vacuum')\n",
    "plt.ylabel('Electrical Energy Output')\n",
    "plt.figtext(x=0.1,y=-0.1,s='Exhaust Vacuum is inversely proportional to the electrical energy output, but the relationship is not as strong as the first one.')"
   ]
  },
  {
   "cell_type": "code",
   "execution_count": 179,
   "metadata": {},
   "outputs": [
    {
     "data": {
      "text/plain": [
       "Text(0.1, -0.1, 'Ambient pressure and electrical showed little positive proportionality.')"
      ]
     },
     "execution_count": 179,
     "metadata": {},
     "output_type": "execute_result"
    },
    {
     "data": {
      "image/png": "[encoded data removed]",
      "text/plain": [
       "<Figure size 432x288 with 1 Axes>"
      ]
     },
     "metadata": {
      "needs_background": "light"
     },
     "output_type": "display_data"
    }
   ],
   "source": [
    "plt.scatter(x=df.AP,y=df.PE)\n",
    "plt.xlabel('Ambient Pressure')\n",
    "plt.ylabel('Electrical Energy Output')\n",
    "plt.figtext(x=0.1,y=-0.1,s='Ambient pressure and electrical showed little positive proportionality.')"
   ]
  },
  {
   "cell_type": "code",
   "execution_count": 180,
   "metadata": {},
   "outputs": [
    {
     "data": {
      "text/plain": [
       "Text(0.1, -0.1, 'Relative humidity and electrical showed little positive proportionality.')"
      ]
     },
     "execution_count": 180,
     "metadata": {},
     "output_type": "execute_result"
    },
    {
     "data": {
      "image/png": "[encoded data removed]",
      "text/plain": [
       "<Figure size 432x288 with 1 Axes>"
      ]
     },
     "metadata": {
      "needs_background": "light"
     },
     "output_type": "display_data"
    }
   ],
   "source": [
    "plt.scatter(x=df.RH,y=df.PE)\n",
    "plt.xlabel('Relative Humidity')\n",
    "plt.ylabel('Electrical Energy Output')\n",
    "plt.figtext(x=0.1,y=-0.1,s='Relative humidity and electrical showed little positive proportionality.')"
   ]
  },
  {
   "cell_type": "markdown",
   "metadata": {},
   "source": [
    "### (iii)"
   ]
  },
  {
   "cell_type": "code",
   "execution_count": 181,
   "metadata": {},
   "outputs": [
    {
     "data": {
      "text/plain": [
       "count    9568.000000\n",
       "mean       19.651231\n",
       "std         7.452473\n",
       "min         1.810000\n",
       "25%        13.510000\n",
       "50%        20.345000\n",
       "75%        25.720000\n",
       "max        37.110000\n",
       "Name: AT, dtype: float64"
      ]
     },
     "execution_count": 181,
     "metadata": {},
     "output_type": "execute_result"
    }
   ],
   "source": [
    "df.AT.describe()"
   ]
  },
  {
   "cell_type": "code",
   "execution_count": 182,
   "metadata": {},
   "outputs": [
    {
     "data": {
      "text/plain": [
       "[[19.65123118729102, 20.345, 17.45876881270898, 13.51, 25.72],\n",
       " [54.30580372073601, 52.08, 27.254196279263994, 41.74, 66.54],\n",
       " [1013.2590781772603, 1012.94, 20.04092182273962, 1009.1, 1017.26],\n",
       " [73.30897784280926, 74.975, 80.50876881270898, 63.325, 84.83],\n",
       " [454.3650094063554, 451.54999999999995, 41.39499059364459, 439.75, 468.43]]"
      ]
     },
     "execution_count": 182,
     "metadata": {},
     "output_type": "execute_result"
    }
   ],
   "source": [
    "table=[[df.AT.mean(),df.AT.median(),(df.AT.max()-df.AT.mean()),np.percentile(df.AT, 25,interpolation='midpoint'),np.percentile(df.AT, 75, interpolation = 'midpoint')],\n",
    "       [df.V.mean(),df.V.median(),(df.V.max()-df.V.mean()),np.percentile(df.V, 25,interpolation='midpoint'),np.percentile(df.V, 75, interpolation = 'midpoint')],\n",
    "       [df.AP.mean(),df.AP.median(),(df.AP.max()-df.AP.mean()),np.percentile(df.AP, 25,interpolation='midpoint'),np.percentile(df.AP, 75, interpolation = 'midpoint')],\n",
    "       [df.RH.mean(),df.RH.median(),(df.RH.max()-df.AT.mean()),np.percentile(df.RH, 25,interpolation='midpoint'),np.percentile(df.RH, 75, interpolation = 'midpoint')],\n",
    "       [df.PE.mean(),df.PE.median(),(df.PE.max()-df.PE.mean()),np.percentile(df.PE, 25,interpolation='midpoint'),np.percentile(df.PE, 75, interpolation = 'midpoint')]]\n",
    "table"
   ]
  },
  {
   "cell_type": "code",
   "execution_count": 183,
   "metadata": {},
   "outputs": [
    {
     "data": {
      "text/html": [
       "<div>\n",
       "<style scoped>\n",
       "    .dataframe tbody tr th:only-of-type {\n",
       "        vertical-align: middle;\n",
       "    }\n",
       "\n",
       "    .dataframe tbody tr th {\n",
       "        vertical-align: top;\n",
       "    }\n",
       "\n",
       "    .dataframe thead th {\n",
       "        text-align: right;\n",
       "    }\n",
       "</style>\n",
       "<table border=\"1\" class=\"dataframe\">\n",
       "  <thead>\n",
       "    <tr style=\"text-align: right;\">\n",
       "      <th></th>\n",
       "      <th>mean</th>\n",
       "      <th>median</th>\n",
       "      <th>range</th>\n",
       "      <th>1st_percentile</th>\n",
       "      <th>3rd_percentile</th>\n",
       "    </tr>\n",
       "  </thead>\n",
       "  <tbody>\n",
       "    <tr>\n",
       "      <th>AT</th>\n",
       "      <td>19.651231</td>\n",
       "      <td>20.345</td>\n",
       "      <td>17.458769</td>\n",
       "      <td>13.510</td>\n",
       "      <td>25.72</td>\n",
       "    </tr>\n",
       "    <tr>\n",
       "      <th>V</th>\n",
       "      <td>54.305804</td>\n",
       "      <td>52.080</td>\n",
       "      <td>27.254196</td>\n",
       "      <td>41.740</td>\n",
       "      <td>66.54</td>\n",
       "    </tr>\n",
       "    <tr>\n",
       "      <th>AP</th>\n",
       "      <td>1013.259078</td>\n",
       "      <td>1012.940</td>\n",
       "      <td>20.040922</td>\n",
       "      <td>1009.100</td>\n",
       "      <td>1017.26</td>\n",
       "    </tr>\n",
       "    <tr>\n",
       "      <th>RH</th>\n",
       "      <td>73.308978</td>\n",
       "      <td>74.975</td>\n",
       "      <td>80.508769</td>\n",
       "      <td>63.325</td>\n",
       "      <td>84.83</td>\n",
       "    </tr>\n",
       "    <tr>\n",
       "      <th>PE</th>\n",
       "      <td>454.365009</td>\n",
       "      <td>451.550</td>\n",
       "      <td>41.394991</td>\n",
       "      <td>439.750</td>\n",
       "      <td>468.43</td>\n",
       "    </tr>\n",
       "  </tbody>\n",
       "</table>\n",
       "</div>"
      ],
      "text/plain": [
       "           mean    median      range  1st_percentile  3rd_percentile\n",
       "AT    19.651231    20.345  17.458769          13.510           25.72\n",
       "V     54.305804    52.080  27.254196          41.740           66.54\n",
       "AP  1013.259078  1012.940  20.040922        1009.100         1017.26\n",
       "RH    73.308978    74.975  80.508769          63.325           84.83\n",
       "PE   454.365009   451.550  41.394991         439.750          468.43"
      ]
     },
     "execution_count": 183,
     "metadata": {},
     "output_type": "execute_result"
    }
   ],
   "source": [
    "df_table=pd.DataFrame(table)\n",
    "df_table.columns=['mean','median','range','1st_percentile','3rd_percentile']\n",
    "df_table.index=['AT','V','AP','RH','PE']\n",
    "df_table"
   ]
  },
  {
   "cell_type": "markdown",
   "metadata": {},
   "source": [
    "## (c) "
   ]
  },
  {
   "cell_type": "code",
   "execution_count": 184,
   "metadata": {},
   "outputs": [],
   "source": [
    "model=LinearRegression(normalize=True)"
   ]
  },
  {
   "cell_type": "code",
   "execution_count": 187,
   "metadata": {},
   "outputs": [
    {
     "name": "stdout",
     "output_type": "stream",
     "text": [
      "coefficient of determination: 0.8989475964148236\n"
     ]
    }
   ],
   "source": [
    "# AT to PE\n",
    "x=df.AT\n",
    "y=df.PE\n",
    "x=np.array(x)\n",
    "x=x.reshape(-1,1)\n",
    "#y=np.array(y)\n",
    "#y=y.reshape(-1,1)\n",
    "model.fit(x,y)\n",
    "r_sq = model.score(x, y)\n",
    "print('coefficient of determination:', r_sq)"
   ]
  },
  {
   "cell_type": "code",
   "execution_count": 188,
   "metadata": {},
   "outputs": [
    {
     "name": "stdout",
     "output_type": "stream",
     "text": [
      "coefficient of determination: 0.7565177870683979\n"
     ]
    }
   ],
   "source": [
    "# V to PE\n",
    "x=df.V\n",
    "y=df.PE\n",
    "x=np.array(x)\n",
    "x=x.reshape(-1,1)\n",
    "#y=np.array(y)\n",
    "#y=y.reshape(-1,1)\n",
    "model.fit(x,y)\n",
    "r_sq = model.score(x, y)\n",
    "print('coefficient of determination:', r_sq)"
   ]
  },
  {
   "cell_type": "code",
   "execution_count": 189,
   "metadata": {},
   "outputs": [
    {
     "name": "stdout",
     "output_type": "stream",
     "text": [
      "coefficient of determination: 0.2687686564110674\n"
     ]
    }
   ],
   "source": [
    "# AP to PE\n",
    "x=df.AP\n",
    "y=df.PE\n",
    "x=np.array(x)\n",
    "x=x.reshape(-1,1)\n",
    "#y=np.array(y)\n",
    "#y=y.reshape(-1,1)\n",
    "model.fit(x,y)\n",
    "r_sq = model.score(x, y)\n",
    "print('coefficient of determination:', r_sq)"
   ]
  },
  {
   "cell_type": "code",
   "execution_count": 190,
   "metadata": {},
   "outputs": [
    {
     "name": "stdout",
     "output_type": "stream",
     "text": [
      "coefficient of determination: 0.15193944023117567\n"
     ]
    }
   ],
   "source": [
    "# RH to PE\n",
    "x=df.RH\n",
    "y=df.PE\n",
    "x=np.array(x)\n",
    "x=x.reshape(-1,1)\n",
    "#y=np.array(y)\n",
    "#y=y.reshape(-1,1)\n",
    "model.fit(x,y)\n",
    "r_sq = model.score(x, y)\n",
    "print('coefficient of determination:', r_sq)"
   ]
  },
  {
   "cell_type": "code",
   "execution_count": 191,
   "metadata": {},
   "outputs": [
    {
     "name": "stdout",
     "output_type": "stream",
     "text": [
      "Ttest_indResult(statistic=-2283.288938091925, pvalue=0.0)\n",
      "P value = 0.0000\n"
     ]
    }
   ],
   "source": [
    "res_AT = ttest_ind(df.AT, df.PE).pvalue\n",
    "res = ttest_ind(df.AT, df.PE)\n",
    "print(res)\n",
    "print('P value = %.4f' %res_AT)"
   ]
  },
  {
   "cell_type": "code",
   "execution_count": 192,
   "metadata": {},
   "outputs": [
    {
     "name": "stdout",
     "output_type": "stream",
     "text": [
      "Ttest_indResult(statistic=-1839.0547429247533, pvalue=0.0)\n",
      "P value = 0.0000\n"
     ]
    }
   ],
   "source": [
    "res_V = ttest_ind(df.V, df.PE).pvalue\n",
    "res = ttest_ind(df.V, df.PE)\n",
    "print(res)\n",
    "print('P value = %.4f' %res_V)"
   ]
  },
  {
   "cell_type": "code",
   "execution_count": 193,
   "metadata": {},
   "outputs": [
    {
     "name": "stdout",
     "output_type": "stream",
     "text": [
      "Ttest_indResult(statistic=3025.2708470344937, pvalue=0.0)\n",
      "P value = 0.0000\n"
     ]
    }
   ],
   "source": [
    "res_AP = ttest_ind(df.AP, df.PE).pvalue\n",
    "res = ttest_ind(df.AP, df.PE)\n",
    "print(res)\n",
    "print('P value = %.4f' %res_AP)"
   ]
  },
  {
   "cell_type": "code",
   "execution_count": 194,
   "metadata": {},
   "outputs": [
    {
     "name": "stdout",
     "output_type": "stream",
     "text": [
      "Ttest_indResult(statistic=-1659.5497984692024, pvalue=0.0)\n",
      "P value = 0.0000\n"
     ]
    }
   ],
   "source": [
    "res_RH = ttest_ind(df.RH, df.PE).pvalue\n",
    "res = ttest_ind(df.RH, df.PE)\n",
    "print(res)\n",
    "print('P value = %.4f' %res_RH)"
   ]
  },
  {
   "cell_type": "code",
   "execution_count": 195,
   "metadata": {},
   "outputs": [
    {
     "name": "stdout",
     "output_type": "stream",
     "text": [
      "All predictors are statistically significance with a P-value of 0.0000\n"
     ]
    }
   ],
   "source": [
    "print(\"All predictors are statistically significance with a P-value of 0.0000\")"
   ]
  },
  {
   "cell_type": "code",
   "execution_count": 196,
   "metadata": {},
   "outputs": [],
   "source": [
    "# build model for AT and PE\n",
    "X_train, X_test, Y_train, Y_test = train_test_split(df.AT, df.PE, test_size=0.2, random_state=101)\n",
    "X_train=np.array(X_train)\n",
    "X_train=X_train.reshape(-1,1)\n",
    "X_test=np.array(X_test)\n",
    "X_test=X_test.reshape(-1,1)"
   ]
  },
  {
   "cell_type": "code",
   "execution_count": 197,
   "metadata": {},
   "outputs": [],
   "source": [
    "model.fit(X_train,Y_train)\n",
    "y_pred = model.predict(X_test)"
   ]
  },
  {
   "cell_type": "code",
   "execution_count": 198,
   "metadata": {},
   "outputs": [],
   "source": [
    "MAE = mean_absolute_error(Y_test,y_pred)\n",
    "MSE = mean_squared_error(Y_test,y_pred)"
   ]
  },
  {
   "cell_type": "code",
   "execution_count": 199,
   "metadata": {},
   "outputs": [
    {
     "name": "stdout",
     "output_type": "stream",
     "text": [
      "MAE = 4.250416687210999, MSE= 29.725105040921118\n",
      "Coefficients: [-2.17411154]\n"
     ]
    }
   ],
   "source": [
    "print(f'MAE = {MAE}, MSE= {MSE}')\n",
    "print(f\"Coefficients: {model.coef_}\")"
   ]
  },
  {
   "cell_type": "code",
   "execution_count": 200,
   "metadata": {},
   "outputs": [
    {
     "data": {
      "text/plain": [
       "Text(0, 0.5, 'PE')"
      ]
     },
     "execution_count": 200,
     "metadata": {},
     "output_type": "execute_result"
    },
    {
     "data": {
      "image/png": "[encoded data removed]",
      "text/plain": [
       "<Figure size 432x288 with 1 Axes>"
      ]
     },
     "metadata": {
      "needs_background": "light"
     },
     "output_type": "display_data"
    }
   ],
   "source": [
    "plt.scatter(X_test, Y_test, color=\"red\")\n",
    "plt.plot(X_test, y_pred, color=\"blue\", linewidth=3)\n",
    "plt.show\n",
    "plt.xlabel('AT')\n",
    "plt.ylabel('PE')"
   ]
  },
  {
   "cell_type": "code",
   "execution_count": 201,
   "metadata": {},
   "outputs": [],
   "source": [
    "# build model for V and PE\n",
    "X_train, X_test, Y_train, Y_test = train_test_split(df.V, df.PE, test_size=0.2, random_state=101)\n",
    "X_train=np.array(X_train)\n",
    "X_train=X_train.reshape(-1,1)\n",
    "X_test=np.array(X_test)\n",
    "X_test=X_test.reshape(-1,1)"
   ]
  },
  {
   "cell_type": "code",
   "execution_count": 202,
   "metadata": {},
   "outputs": [
    {
     "name": "stdout",
     "output_type": "stream",
     "text": [
      "MAE = 6.531626076422563, MSE= 71.42203710566083\n",
      "Coefficients: [-1.17106867]\n"
     ]
    }
   ],
   "source": [
    "model.fit(X_train,Y_train)\n",
    "y_pred = model.predict(X_test)\n",
    "\n",
    "MAE = mean_absolute_error(Y_test,y_pred)\n",
    "MSE = mean_squared_error(Y_test,y_pred)\n",
    "\n",
    "print(f'MAE = {MAE}, MSE= {MSE}')\n",
    "print(f\"Coefficients: {model.coef_}\")"
   ]
  },
  {
   "cell_type": "code",
   "execution_count": 203,
   "metadata": {},
   "outputs": [
    {
     "data": {
      "text/plain": [
       "Text(0.1, -0.1, 'Some outliers can be detected when V is less than 30.')"
      ]
     },
     "execution_count": 203,
     "metadata": {},
     "output_type": "execute_result"
    },
    {
     "data": {
      "image/png": "[encoded data removed]",
      "text/plain": [
       "<Figure size 432x288 with 1 Axes>"
      ]
     },
     "metadata": {
      "needs_background": "light"
     },
     "output_type": "display_data"
    }
   ],
   "source": [
    "plt.scatter(X_test, Y_test, color=\"red\")\n",
    "plt.plot(X_test, y_pred, color=\"blue\", linewidth=3)\n",
    "plt.show\n",
    "plt.xlabel('V')\n",
    "plt.ylabel('PE')\n",
    "plt.figtext(x=0.1,y=-0.1,s='Some outliers can be detected when V is less than 30.')"
   ]
  },
  {
   "cell_type": "code",
   "execution_count": 204,
   "metadata": {},
   "outputs": [],
   "source": [
    "# build model for AP and PE\n",
    "X_train, X_test, Y_train, Y_test = train_test_split(df.AP, df.PE, test_size=0.2, random_state=101)\n",
    "X_train=np.array(X_train)\n",
    "X_train=X_train.reshape(-1,1)\n",
    "X_test=np.array(X_test)\n",
    "X_test=X_test.reshape(-1,1)"
   ]
  },
  {
   "cell_type": "code",
   "execution_count": 205,
   "metadata": {},
   "outputs": [
    {
     "name": "stdout",
     "output_type": "stream",
     "text": [
      "MAE = 12.031346280357827, MSE= 213.5516008855585\n",
      "Coefficients: [1.50676969]\n"
     ]
    }
   ],
   "source": [
    "model.fit(X_train,Y_train)\n",
    "y_pred = model.predict(X_test)\n",
    "\n",
    "MAE = mean_absolute_error(Y_test,y_pred)\n",
    "MSE = mean_squared_error(Y_test,y_pred)\n",
    "\n",
    "print(f'MAE = {MAE}, MSE= {MSE}')\n",
    "print(f\"Coefficients: {model.coef_}\")"
   ]
  },
  {
   "cell_type": "code",
   "execution_count": 206,
   "metadata": {},
   "outputs": [
    {
     "data": {
      "text/plain": [
       "Text(0.1, -0.1, 'Some outliers can be detected when AP is small and PE is high.')"
      ]
     },
     "execution_count": 206,
     "metadata": {},
     "output_type": "execute_result"
    },
    {
     "data": {
      "image/png": "[encoded data removed]",
      "text/plain": [
       "<Figure size 432x288 with 1 Axes>"
      ]
     },
     "metadata": {
      "needs_background": "light"
     },
     "output_type": "display_data"
    }
   ],
   "source": [
    "plt.scatter(X_test, Y_test, color=\"red\")\n",
    "plt.plot(X_test, y_pred, color=\"blue\", linewidth=3)\n",
    "plt.show\n",
    "plt.xlabel('AP')\n",
    "plt.ylabel('PE')\n",
    "plt.figtext(x=0.1,y=-0.1,s='Some outliers can be detected when AP is small and PE is high.')"
   ]
  },
  {
   "cell_type": "code",
   "execution_count": 207,
   "metadata": {},
   "outputs": [],
   "source": [
    "# build model for RH and PE\n",
    "X_train, X_test, Y_train, Y_test = train_test_split(df.RH, df.PE, test_size=0.2, random_state=101)\n",
    "X_train=np.array(X_train)\n",
    "X_train=X_train.reshape(-1,1)\n",
    "X_test=np.array(X_test)\n",
    "X_test=X_test.reshape(-1,1)"
   ]
  },
  {
   "cell_type": "code",
   "execution_count": 208,
   "metadata": {},
   "outputs": [
    {
     "name": "stdout",
     "output_type": "stream",
     "text": [
      "MAE = 13.149284348695371, MSE= 240.56870591741423\n",
      "Coefficients: [0.45438737]\n"
     ]
    }
   ],
   "source": [
    "model.fit(X_train,Y_train)\n",
    "y_pred = model.predict(X_test)\n",
    "\n",
    "MAE = mean_absolute_error(Y_test,y_pred)\n",
    "MSE = mean_squared_error(Y_test,y_pred)\n",
    "\n",
    "print(f'MAE = {MAE}, MSE= {MSE}')\n",
    "print(f\"Coefficients: {model.coef_}\")"
   ]
  },
  {
   "cell_type": "code",
   "execution_count": 209,
   "metadata": {},
   "outputs": [
    {
     "data": {
      "text/plain": [
       "Text(0, 0.5, 'PE')"
      ]
     },
     "execution_count": 209,
     "metadata": {},
     "output_type": "execute_result"
    },
    {
     "data": {
      "image/png": "[encoded data removed]",
      "text/plain": [
       "<Figure size 432x288 with 1 Axes>"
      ]
     },
     "metadata": {
      "needs_background": "light"
     },
     "output_type": "display_data"
    }
   ],
   "source": [
    "plt.scatter(X_test, Y_test, color=\"red\")\n",
    "plt.plot(X_test, y_pred, color=\"blue\", linewidth=3)\n",
    "plt.show\n",
    "plt.xlabel('RH')\n",
    "plt.ylabel('PE')\n"
   ]
  },
  {
   "cell_type": "code",
   "execution_count": 323,
   "metadata": {},
   "outputs": [
    {
     "name": "stdout",
     "output_type": "stream",
     "text": [
      "                            OLS Regression Results                            \n",
      "==============================================================================\n",
      "Dep. Variable:                     PE   R-squared:                       0.899\n",
      "Model:                            OLS   Adj. R-squared:                  0.899\n",
      "Method:                 Least Squares   F-statistic:                 8.510e+04\n",
      "Date:                Fri, 11 Feb 2022   Prob (F-statistic):               0.00\n",
      "Time:                        00:52:40   Log-Likelihood:                -29756.\n",
      "No. Observations:                9568   AIC:                         5.952e+04\n",
      "Df Residuals:                    9566   BIC:                         5.953e+04\n",
      "Df Model:                           1                                         \n",
      "Covariance Type:            nonrobust                                         \n",
      "==============================================================================\n",
      "                 coef    std err          t      P>|t|      [0.025      0.975]\n",
      "------------------------------------------------------------------------------\n",
      "AT            -2.1713      0.007   -291.715      0.000      -2.186      -2.157\n",
      "coef         497.0341      0.156   3177.280      0.000     496.727     497.341\n",
      "==============================================================================\n",
      "Omnibus:                      417.457   Durbin-Watson:                   2.033\n",
      "Prob(Omnibus):                  0.000   Jarque-Bera (JB):             1117.844\n",
      "Skew:                          -0.209   Prob(JB):                    1.83e-243\n",
      "Kurtosis:                       4.621   Cond. No.                         59.4\n",
      "==============================================================================\n",
      "\n",
      "Notes:\n",
      "[1] Standard Errors assume that the covariance matrix of the errors is correctly specified.\n"
     ]
    }
   ],
   "source": [
    "# OLS for AT and PE\n",
    "df_AT=pd.DataFrame(df.AT)\n",
    "df_AT['coef']=1\n",
    "\n",
    "results=sm.OLS(df.PE,df_AT).fit()\n",
    "print(results.summary())"
   ]
  },
  {
   "cell_type": "code",
   "execution_count": 324,
   "metadata": {},
   "outputs": [
    {
     "data": {
      "text/plain": [
       "AT       -2.17132\n",
       "coef    497.03412\n",
       "dtype: float64"
      ]
     },
     "execution_count": 324,
     "metadata": {},
     "output_type": "execute_result"
    }
   ],
   "source": [
    "coef_AT=results.params\n",
    "coef_AT"
   ]
  },
  {
   "cell_type": "code",
   "execution_count": 212,
   "metadata": {},
   "outputs": [
    {
     "name": "stdout",
     "output_type": "stream",
     "text": [
      "The result showed that AT is a significant variable that is not affected by error much.\n"
     ]
    }
   ],
   "source": [
    "print('The result showed that AT is a significant variable that is not affected by error much.')"
   ]
  },
  {
   "cell_type": "code",
   "execution_count": 334,
   "metadata": {},
   "outputs": [
    {
     "name": "stdout",
     "output_type": "stream",
     "text": [
      "                            OLS Regression Results                            \n",
      "==============================================================================\n",
      "Dep. Variable:                     PE   R-squared:                       0.757\n",
      "Model:                            OLS   Adj. R-squared:                  0.756\n",
      "Method:                 Least Squares   F-statistic:                 2.972e+04\n",
      "Date:                Fri, 11 Feb 2022   Prob (F-statistic):               0.00\n",
      "Time:                        00:55:26   Log-Likelihood:                -33963.\n",
      "No. Observations:                9568   AIC:                         6.793e+04\n",
      "Df Residuals:                    9566   BIC:                         6.794e+04\n",
      "Df Model:                           1                                         \n",
      "Covariance Type:            nonrobust                                         \n",
      "==============================================================================\n",
      "                 coef    std err          t      P>|t|      [0.025      0.975]\n",
      "------------------------------------------------------------------------------\n",
      "V             -1.1681      0.007   -172.402      0.000      -1.181      -1.155\n",
      "coef         517.8015      0.378   1370.218      0.000     517.061     518.542\n",
      "==============================================================================\n",
      "Omnibus:                       77.693   Durbin-Watson:                   2.007\n",
      "Prob(Omnibus):                  0.000   Jarque-Bera (JB):              109.571\n",
      "Skew:                          -0.097   Prob(JB):                     1.61e-24\n",
      "Kurtosis:                       3.487   Cond. No.                         245.\n",
      "==============================================================================\n",
      "\n",
      "Notes:\n",
      "[1] Standard Errors assume that the covariance matrix of the errors is correctly specified.\n"
     ]
    }
   ],
   "source": [
    "# OLS for V\n",
    "df_V=pd.DataFrame(df.V)\n",
    "df_V['coef']=1\n",
    "\n",
    "results=sm.OLS(df.PE,df_V).fit()\n",
    "print(results.summary())"
   ]
  },
  {
   "cell_type": "code",
   "execution_count": 335,
   "metadata": {},
   "outputs": [
    {
     "data": {
      "text/plain": [
       "V        -1.168135\n",
       "coef    517.801526\n",
       "dtype: float64"
      ]
     },
     "execution_count": 335,
     "metadata": {},
     "output_type": "execute_result"
    }
   ],
   "source": [
    "coef_V=results.params\n",
    "coef_V"
   ]
  },
  {
   "cell_type": "code",
   "execution_count": 214,
   "metadata": {},
   "outputs": [
    {
     "name": "stdout",
     "output_type": "stream",
     "text": [
      "For V, the p value is low but r-squared is not quite as high as the r-squared for AT, which means that V is affected by the error a bit more.\n"
     ]
    }
   ],
   "source": [
    "print('For V, the p value is low but r-squared is not quite as high as the r-squared for AT, which means that V is affected by the error a bit more.')"
   ]
  },
  {
   "cell_type": "code",
   "execution_count": 336,
   "metadata": {},
   "outputs": [
    {
     "name": "stdout",
     "output_type": "stream",
     "text": [
      "                            OLS Regression Results                            \n",
      "==============================================================================\n",
      "Dep. Variable:                     PE   R-squared:                       0.269\n",
      "Model:                            OLS   Adj. R-squared:                  0.269\n",
      "Method:                 Least Squares   F-statistic:                     3516.\n",
      "Date:                Fri, 11 Feb 2022   Prob (F-statistic):               0.00\n",
      "Time:                        00:55:48   Log-Likelihood:                -39224.\n",
      "No. Observations:                9568   AIC:                         7.845e+04\n",
      "Df Residuals:                    9566   BIC:                         7.847e+04\n",
      "Df Model:                           1                                         \n",
      "Covariance Type:            nonrobust                                         \n",
      "==============================================================================\n",
      "                 coef    std err          t      P>|t|      [0.025      0.975]\n",
      "------------------------------------------------------------------------------\n",
      "AP             1.4899      0.025     59.296      0.000       1.441       1.539\n",
      "coef       -1055.2610     25.459    -41.449      0.000   -1105.167   -1005.355\n",
      "==============================================================================\n",
      "Omnibus:                      525.438   Durbin-Watson:                   1.996\n",
      "Prob(Omnibus):                  0.000   Jarque-Bera (JB):              612.290\n",
      "Skew:                           0.616   Prob(JB):                    1.10e-133\n",
      "Kurtosis:                       2.859   Cond. No.                     1.73e+05\n",
      "==============================================================================\n",
      "\n",
      "Notes:\n",
      "[1] Standard Errors assume that the covariance matrix of the errors is correctly specified.\n",
      "[2] The condition number is large, 1.73e+05. This might indicate that there are\n",
      "strong multicollinearity or other numerical problems.\n"
     ]
    }
   ],
   "source": [
    "# OLS for AP\n",
    "df_AP=pd.DataFrame(df.AP)\n",
    "df_AP['coef']=1\n",
    "\n",
    "results=sm.OLS(df.PE,df_AP).fit()\n",
    "print(results.summary())"
   ]
  },
  {
   "cell_type": "code",
   "execution_count": 337,
   "metadata": {},
   "outputs": [
    {
     "data": {
      "text/plain": [
       "AP         1.489872\n",
       "coef   -1055.260989\n",
       "dtype: float64"
      ]
     },
     "execution_count": 337,
     "metadata": {},
     "output_type": "execute_result"
    }
   ],
   "source": [
    "coef_AP=results.params\n",
    "coef_AP"
   ]
  },
  {
   "cell_type": "code",
   "execution_count": 216,
   "metadata": {},
   "outputs": [
    {
     "name": "stdout",
     "output_type": "stream",
     "text": [
      "The r-squared value is low for AP, which means that AP is heavily affected by errors\n"
     ]
    }
   ],
   "source": [
    "print('The r-squared value is low for AP, which means that AP is heavily affected by errors')"
   ]
  },
  {
   "cell_type": "code",
   "execution_count": 338,
   "metadata": {},
   "outputs": [
    {
     "name": "stdout",
     "output_type": "stream",
     "text": [
      "                            OLS Regression Results                            \n",
      "==============================================================================\n",
      "Dep. Variable:                     PE   R-squared:                       0.152\n",
      "Model:                            OLS   Adj. R-squared:                  0.152\n",
      "Method:                 Least Squares   F-statistic:                     1714.\n",
      "Date:                Fri, 11 Feb 2022   Prob (F-statistic):               0.00\n",
      "Time:                        00:56:05   Log-Likelihood:                -39933.\n",
      "No. Observations:                9568   AIC:                         7.987e+04\n",
      "Df Residuals:                    9566   BIC:                         7.988e+04\n",
      "Df Model:                           1                                         \n",
      "Covariance Type:            nonrobust                                         \n",
      "==============================================================================\n",
      "                 coef    std err          t      P>|t|      [0.025      0.975]\n",
      "------------------------------------------------------------------------------\n",
      "RH             0.4557      0.011     41.399      0.000       0.434       0.477\n",
      "coef         420.9618      0.823    511.676      0.000     419.349     422.574\n",
      "==============================================================================\n",
      "Omnibus:                      772.278   Durbin-Watson:                   1.998\n",
      "Prob(Omnibus):                  0.000   Jarque-Bera (JB):              319.245\n",
      "Skew:                           0.231   Prob(JB):                     4.75e-70\n",
      "Kurtosis:                       2.234   Cond. No.                         383.\n",
      "==============================================================================\n",
      "\n",
      "Notes:\n",
      "[1] Standard Errors assume that the covariance matrix of the errors is correctly specified.\n"
     ]
    }
   ],
   "source": [
    "# OLS for RH\n",
    "df_RH=pd.DataFrame(df.RH)\n",
    "df_RH['coef']=1\n",
    "\n",
    "results=sm.OLS(df.PE,df_RH).fit()\n",
    "print(results.summary())"
   ]
  },
  {
   "cell_type": "code",
   "execution_count": 339,
   "metadata": {},
   "outputs": [
    {
     "data": {
      "text/plain": [
       "RH        0.455650\n",
       "coef    420.961766\n",
       "dtype: float64"
      ]
     },
     "execution_count": 339,
     "metadata": {},
     "output_type": "execute_result"
    }
   ],
   "source": [
    "coef_RH=results.params\n",
    "coef_RH"
   ]
  },
  {
   "cell_type": "code",
   "execution_count": 218,
   "metadata": {},
   "outputs": [
    {
     "name": "stdout",
     "output_type": "stream",
     "text": [
      "The r-squared value is low for RH, which means that RH is heavily affected by errors\n"
     ]
    }
   ],
   "source": [
    "print('The r-squared value is low for RH, which means that RH is heavily affected by errors')"
   ]
  },
  {
   "cell_type": "markdown",
   "metadata": {},
   "source": [
    "#### Overall for question (c), AT and V are statistically significant and not affected much by error."
   ]
  },
  {
   "cell_type": "markdown",
   "metadata": {},
   "source": [
    "## (d) "
   ]
  },
  {
   "cell_type": "code",
   "execution_count": 330,
   "metadata": {},
   "outputs": [
    {
     "data": {
      "text/html": [
       "<div>\n",
       "<style scoped>\n",
       "    .dataframe tbody tr th:only-of-type {\n",
       "        vertical-align: middle;\n",
       "    }\n",
       "\n",
       "    .dataframe tbody tr th {\n",
       "        vertical-align: top;\n",
       "    }\n",
       "\n",
       "    .dataframe thead th {\n",
       "        text-align: right;\n",
       "    }\n",
       "</style>\n",
       "<table border=\"1\" class=\"dataframe\">\n",
       "  <thead>\n",
       "    <tr style=\"text-align: right;\">\n",
       "      <th></th>\n",
       "      <th>AT</th>\n",
       "      <th>V</th>\n",
       "      <th>AP</th>\n",
       "      <th>RH</th>\n",
       "      <th>coef</th>\n",
       "    </tr>\n",
       "  </thead>\n",
       "  <tbody>\n",
       "    <tr>\n",
       "      <th>8380</th>\n",
       "      <td>23.97</td>\n",
       "      <td>64.33</td>\n",
       "      <td>1010.54</td>\n",
       "      <td>84.65</td>\n",
       "      <td>1</td>\n",
       "    </tr>\n",
       "    <tr>\n",
       "      <th>4816</th>\n",
       "      <td>17.89</td>\n",
       "      <td>42.42</td>\n",
       "      <td>1008.92</td>\n",
       "      <td>65.08</td>\n",
       "      <td>1</td>\n",
       "    </tr>\n",
       "    <tr>\n",
       "      <th>738</th>\n",
       "      <td>10.57</td>\n",
       "      <td>36.71</td>\n",
       "      <td>1022.62</td>\n",
       "      <td>80.49</td>\n",
       "      <td>1</td>\n",
       "    </tr>\n",
       "    <tr>\n",
       "      <th>2029</th>\n",
       "      <td>25.18</td>\n",
       "      <td>61.08</td>\n",
       "      <td>1013.08</td>\n",
       "      <td>80.75</td>\n",
       "      <td>1</td>\n",
       "    </tr>\n",
       "    <tr>\n",
       "      <th>8362</th>\n",
       "      <td>3.40</td>\n",
       "      <td>39.64</td>\n",
       "      <td>1011.10</td>\n",
       "      <td>83.43</td>\n",
       "      <td>1</td>\n",
       "    </tr>\n",
       "    <tr>\n",
       "      <th>...</th>\n",
       "      <td>...</td>\n",
       "      <td>...</td>\n",
       "      <td>...</td>\n",
       "      <td>...</td>\n",
       "      <td>...</td>\n",
       "    </tr>\n",
       "    <tr>\n",
       "      <th>599</th>\n",
       "      <td>8.99</td>\n",
       "      <td>39.04</td>\n",
       "      <td>1021.99</td>\n",
       "      <td>75.98</td>\n",
       "      <td>1</td>\n",
       "    </tr>\n",
       "    <tr>\n",
       "      <th>5695</th>\n",
       "      <td>27.54</td>\n",
       "      <td>74.22</td>\n",
       "      <td>1007.44</td>\n",
       "      <td>75.91</td>\n",
       "      <td>1</td>\n",
       "    </tr>\n",
       "    <tr>\n",
       "      <th>8006</th>\n",
       "      <td>11.48</td>\n",
       "      <td>37.50</td>\n",
       "      <td>1014.38</td>\n",
       "      <td>69.75</td>\n",
       "      <td>1</td>\n",
       "    </tr>\n",
       "    <tr>\n",
       "      <th>1361</th>\n",
       "      <td>6.79</td>\n",
       "      <td>39.37</td>\n",
       "      <td>1019.79</td>\n",
       "      <td>72.39</td>\n",
       "      <td>1</td>\n",
       "    </tr>\n",
       "    <tr>\n",
       "      <th>1547</th>\n",
       "      <td>8.43</td>\n",
       "      <td>40.60</td>\n",
       "      <td>1015.39</td>\n",
       "      <td>91.81</td>\n",
       "      <td>1</td>\n",
       "    </tr>\n",
       "  </tbody>\n",
       "</table>\n",
       "<p>7654 rows × 5 columns</p>\n",
       "</div>"
      ],
      "text/plain": [
       "         AT      V       AP     RH  coef\n",
       "8380  23.97  64.33  1010.54  84.65     1\n",
       "4816  17.89  42.42  1008.92  65.08     1\n",
       "738   10.57  36.71  1022.62  80.49     1\n",
       "2029  25.18  61.08  1013.08  80.75     1\n",
       "8362   3.40  39.64  1011.10  83.43     1\n",
       "...     ...    ...      ...    ...   ...\n",
       "599    8.99  39.04  1021.99  75.98     1\n",
       "5695  27.54  74.22  1007.44  75.91     1\n",
       "8006  11.48  37.50  1014.38  69.75     1\n",
       "1361   6.79  39.37  1019.79  72.39     1\n",
       "1547   8.43  40.60  1015.39  91.81     1\n",
       "\n",
       "[7654 rows x 5 columns]"
      ]
     },
     "execution_count": 330,
     "metadata": {},
     "output_type": "execute_result"
    }
   ],
   "source": [
    "# prepare data\n",
    "df=pd.DataFrame(data)\n",
    "x=df.drop('PE',axis=1)\n",
    "x['coef']=1\n",
    "y=df.PE\n",
    "X_train, X_test, Y_train, Y_test = train_test_split(x, y, test_size=0.2, random_state=101)\n",
    "X_train"
   ]
  },
  {
   "cell_type": "code",
   "execution_count": 331,
   "metadata": {},
   "outputs": [
    {
     "name": "stdout",
     "output_type": "stream",
     "text": [
      "                            OLS Regression Results                            \n",
      "==============================================================================\n",
      "Dep. Variable:                     PE   R-squared:                       0.930\n",
      "Model:                            OLS   Adj. R-squared:                  0.930\n",
      "Method:                 Least Squares   F-statistic:                 2.526e+04\n",
      "Date:                Fri, 11 Feb 2022   Prob (F-statistic):               0.00\n",
      "Time:                        00:54:44   Log-Likelihood:                -22435.\n",
      "No. Observations:                7654   AIC:                         4.488e+04\n",
      "Df Residuals:                    7649   BIC:                         4.491e+04\n",
      "Df Model:                           4                                         \n",
      "Covariance Type:            nonrobust                                         \n",
      "==============================================================================\n",
      "                 coef    std err          t      P>|t|      [0.025      0.975]\n",
      "------------------------------------------------------------------------------\n",
      "AT            -1.9765      0.017   -116.447      0.000      -2.010      -1.943\n",
      "V             -0.2359      0.008    -29.128      0.000      -0.252      -0.220\n",
      "AP             0.0630      0.011      5.957      0.000       0.042       0.084\n",
      "RH            -0.1586      0.005    -34.153      0.000      -0.168      -0.150\n",
      "coef         453.7991     10.906     41.609      0.000     432.420     475.179\n",
      "==============================================================================\n",
      "Omnibus:                      605.628   Durbin-Watson:                   1.983\n",
      "Prob(Omnibus):                  0.000   Jarque-Bera (JB):             2539.453\n",
      "Skew:                          -0.291   Prob(JB):                         0.00\n",
      "Kurtosis:                       5.761   Cond. No.                     2.14e+05\n",
      "==============================================================================\n",
      "\n",
      "Notes:\n",
      "[1] Standard Errors assume that the covariance matrix of the errors is correctly specified.\n",
      "[2] The condition number is large, 2.14e+05. This might indicate that there are\n",
      "strong multicollinearity or other numerical problems.\n"
     ]
    },
    {
     "data": {
      "text/html": [
       "<div>\n",
       "<style scoped>\n",
       "    .dataframe tbody tr th:only-of-type {\n",
       "        vertical-align: middle;\n",
       "    }\n",
       "\n",
       "    .dataframe tbody tr th {\n",
       "        vertical-align: top;\n",
       "    }\n",
       "\n",
       "    .dataframe thead th {\n",
       "        text-align: right;\n",
       "    }\n",
       "</style>\n",
       "<table border=\"1\" class=\"dataframe\">\n",
       "  <thead>\n",
       "    <tr style=\"text-align: right;\">\n",
       "      <th></th>\n",
       "      <th>0</th>\n",
       "    </tr>\n",
       "  </thead>\n",
       "  <tbody>\n",
       "    <tr>\n",
       "      <th>AT</th>\n",
       "      <td>-1.976540</td>\n",
       "    </tr>\n",
       "    <tr>\n",
       "      <th>V</th>\n",
       "      <td>-0.235907</td>\n",
       "    </tr>\n",
       "    <tr>\n",
       "      <th>AP</th>\n",
       "      <td>0.063026</td>\n",
       "    </tr>\n",
       "    <tr>\n",
       "      <th>RH</th>\n",
       "      <td>-0.158631</td>\n",
       "    </tr>\n",
       "    <tr>\n",
       "      <th>Intercept</th>\n",
       "      <td>453.799144</td>\n",
       "    </tr>\n",
       "  </tbody>\n",
       "</table>\n",
       "</div>"
      ],
      "text/plain": [
       "                    0\n",
       "AT          -1.976540\n",
       "V           -0.235907\n",
       "AP           0.063026\n",
       "RH          -0.158631\n",
       "Intercept  453.799144"
      ]
     },
     "execution_count": 331,
     "metadata": {},
     "output_type": "execute_result"
    }
   ],
   "source": [
    "results=sm.OLS(Y_train,X_train).fit()\n",
    "print(results.summary())\n",
    "coef_mr=results.params\n",
    "coef_mr=pd.DataFrame(coef_mr)\n",
    "coef_mr.index=['AT','V','AP','RH','Intercept']\n",
    "coef_mr"
   ]
  },
  {
   "cell_type": "code",
   "execution_count": 332,
   "metadata": {},
   "outputs": [
    {
     "data": {
      "text/plain": [
       "21.510824811862197"
      ]
     },
     "execution_count": 332,
     "metadata": {},
     "output_type": "execute_result"
    }
   ],
   "source": [
    "y_pred=results.predict(X_test)\n",
    "MSE = mean_squared_error(Y_test,y_pred)\n",
    "MSE"
   ]
  },
  {
   "cell_type": "code",
   "execution_count": 333,
   "metadata": {},
   "outputs": [
    {
     "name": "stdout",
     "output_type": "stream",
     "text": [
      "According to the model, all four predictors are statistically significant, as the P value are all low.\n",
      "Thus we do not reject any null hypothesis.\n"
     ]
    }
   ],
   "source": [
    "print('According to the model, all four predictors are statistically significant, as the P value are all low.')\n",
    "print('Thus we do not reject any null hypothesis.')"
   ]
  },
  {
   "cell_type": "markdown",
   "metadata": {},
   "source": [
    "## (e)"
   ]
  },
  {
   "cell_type": "code",
   "execution_count": 340,
   "metadata": {},
   "outputs": [
    {
     "data": {
      "text/plain": [
       "[-2.171319958517809,\n",
       " -1.1681351265557183,\n",
       " 1.4898716733991095,\n",
       " 0.45565010226298186]"
      ]
     },
     "execution_count": 340,
     "metadata": {},
     "output_type": "execute_result"
    }
   ],
   "source": [
    "coef_lr=[]\n",
    "coef_lr.append(coef_AT[0])\n",
    "coef_lr.append(coef_V[0])\n",
    "coef_lr.append(coef_AP[0])\n",
    "coef_lr.append(coef_RH[0])\n",
    "#coef_lr.append(coef_coef[0])\n",
    "coef_lr"
   ]
  },
  {
   "cell_type": "code",
   "execution_count": 342,
   "metadata": {},
   "outputs": [
    {
     "data": {
      "text/plain": [
       "(-2.5, 1.6)"
      ]
     },
     "execution_count": 342,
     "metadata": {},
     "output_type": "execute_result"
    },
    {
     "data": {
      "image/png": "[encoded data removed]",
      "text/plain": [
       "<Figure size 432x288 with 1 Axes>"
      ]
     },
     "metadata": {
      "needs_background": "light"
     },
     "output_type": "display_data"
    }
   ],
   "source": [
    "plt.scatter(x=coef_lr,y=coef_mr[0:4])\n",
    "plt.xlabel('coef for SLR')\n",
    "plt.xlim((-2.5,1.6))\n",
    "plt.ylabel('coef for MLR')\n",
    "plt.ylim((-2.5,1.6))"
   ]
  },
  {
   "cell_type": "code",
   "execution_count": 60,
   "metadata": {},
   "outputs": [
    {
     "name": "stdout",
     "output_type": "stream",
     "text": [
      "The coefficients for multiple linear regression occurs more to the negative end, due to correlation between variables\n"
     ]
    }
   ],
   "source": [
    "print('The coefficients for multiple linear regression occurs more to the negative end, due to correlation between variables')"
   ]
  },
  {
   "cell_type": "markdown",
   "metadata": {},
   "source": [
    "## (f) make conclusion"
   ]
  },
  {
   "cell_type": "code",
   "execution_count": 61,
   "metadata": {},
   "outputs": [],
   "source": [
    "from sklearn.preprocessing import PolynomialFeatures\n"
   ]
  },
  {
   "cell_type": "code",
   "execution_count": 125,
   "metadata": {},
   "outputs": [],
   "source": [
    "\n",
    "poly=PolynomialFeatures(3)"
   ]
  },
  {
   "cell_type": "code",
   "execution_count": 127,
   "metadata": {},
   "outputs": [],
   "source": [
    "# for AT and PE\n",
    "\n",
    "x=df.AT\n",
    "y=df.PE\n",
    "\n",
    "\n",
    "X_train, X_test, Y_train, Y_test = train_test_split(x, y, test_size=0.2, random_state=101)\n",
    "#X_train=np.array(X_train)\n",
    "#X_train=X_train.reshape(-1,1)\n",
    "X_train=pd.DataFrame(X_train)\n",
    "\n",
    "X_test=pd.DataFrame(X_test)"
   ]
  },
  {
   "cell_type": "code",
   "execution_count": 128,
   "metadata": {},
   "outputs": [],
   "source": [
    "X_train_poly=poly.fit_transform(X_train)\n",
    "X_test_poly=poly.fit_transform(X_test)"
   ]
  },
  {
   "cell_type": "code",
   "execution_count": 129,
   "metadata": {},
   "outputs": [
    {
     "data": {
      "text/plain": [
       "493.0091281334509"
      ]
     },
     "execution_count": 129,
     "metadata": {},
     "output_type": "execute_result"
    }
   ],
   "source": [
    "model=LinearRegression()\n",
    "model.fit(X_train_poly,Y_train)\n",
    "coef=model.coef_\n",
    "intercept=model.intercept_\n",
    "intercept"
   ]
  },
  {
   "cell_type": "code",
   "execution_count": 130,
   "metadata": {},
   "outputs": [
    {
     "data": {
      "text/plain": [
       "[<matplotlib.lines.Line2D at 0x1c3d76c9ca0>]"
      ]
     },
     "execution_count": 130,
     "metadata": {},
     "output_type": "execute_result"
    },
    {
     "data": {
      "image/png": "[encoded data removed]",
      "text/plain": [
       "<Figure size 432x288 with 1 Axes>"
      ]
     },
     "metadata": {
      "needs_background": "light"
     },
     "output_type": "display_data"
    }
   ],
   "source": [
    "x_axis=np.arange(0,40,0.1)\n",
    "response=intercept+coef[1]*x_axis+coef[2]*x_axis**2 +coef[3]*x_axis**3\n",
    "\n",
    "plt.scatter(df.AT,df.PE)\n",
    "plt.plot(x_axis,response,color='red')"
   ]
  },
  {
   "cell_type": "code",
   "execution_count": 131,
   "metadata": {},
   "outputs": [
    {
     "data": {
      "text/plain": [
       "array([ 0.00000000e+00, -2.09810927e+00, -3.37483098e-03,  1.37153063e-04])"
      ]
     },
     "execution_count": 131,
     "metadata": {},
     "output_type": "execute_result"
    }
   ],
   "source": [
    "# for V and PE\n",
    "\n",
    "poly=PolynomialFeatures(3)\n",
    "\n",
    "x=df.V\n",
    "y=df.PE\n",
    "\n",
    "X_train, X_test, Y_train, Y_test = train_test_split(x, y, test_size=0.2, random_state=101)\n",
    "#X_train=np.array(X_train)\n",
    "#X_train=X_train.reshape(-1,1)\n",
    "X_train=pd.DataFrame(X_train)\n",
    "X_test=pd.DataFrame(X_test)\n",
    "\n",
    "X_train_poly=poly.fit_transform(X_train)\n",
    "X_test_poly=poly.fit_transform(X_test)\n",
    "\n",
    "model=LinearRegression()\n",
    "model.fit(X_train_poly,Y_train)\n",
    "coef=model.coef_\n",
    "intercept=model.intercept_\n",
    "coef"
   ]
  },
  {
   "cell_type": "code",
   "execution_count": 132,
   "metadata": {},
   "outputs": [
    {
     "data": {
      "text/plain": [
       "[<matplotlib.lines.Line2D at 0x1c3d7996310>]"
      ]
     },
     "execution_count": 132,
     "metadata": {},
     "output_type": "execute_result"
    },
    {
     "data": {
      "image/png": "[encoded data removed]",
      "text/plain": [
       "<Figure size 432x288 with 1 Axes>"
      ]
     },
     "metadata": {
      "needs_background": "light"
     },
     "output_type": "display_data"
    }
   ],
   "source": [
    "x_axis=np.arange(20,80,0.1)\n",
    "response=intercept+coef[1]*x_axis+coef[2]*x_axis**2 +coef[3]*x_axis**3\n",
    "\n",
    "plt.scatter(df.V,df.PE)\n",
    "plt.plot(x_axis,response,color='red')"
   ]
  },
  {
   "cell_type": "code",
   "execution_count": 134,
   "metadata": {},
   "outputs": [
    {
     "data": {
      "text/plain": [
       "5367915.7290002275"
      ]
     },
     "execution_count": 134,
     "metadata": {},
     "output_type": "execute_result"
    }
   ],
   "source": [
    "# for AP and PE\n",
    "\n",
    "poly=PolynomialFeatures(3)\n",
    "\n",
    "x=df.AP\n",
    "y=df.PE\n",
    "\n",
    "X_train, X_test, Y_train, Y_test = train_test_split(x, y, test_size=0.2, random_state=101)\n",
    "#X_train=np.array(X_train)\n",
    "#X_train=X_train.reshape(-1,1)\n",
    "X_train=pd.DataFrame(X_train)\n",
    "X_test=pd.DataFrame(X_test)\n",
    "\n",
    "X_train_poly=poly.fit_transform(X_train)\n",
    "X_test_poly=poly.fit_transform(X_test)\n",
    "\n",
    "model=LinearRegression()\n",
    "model.fit(X_train_poly,Y_train)\n",
    "coef=model.coef_\n",
    "intercept=model.intercept_\n",
    "intercept"
   ]
  },
  {
   "cell_type": "code",
   "execution_count": 135,
   "metadata": {},
   "outputs": [
    {
     "data": {
      "text/plain": [
       "[<matplotlib.lines.Line2D at 0x1c3d7a47e80>]"
      ]
     },
     "execution_count": 135,
     "metadata": {},
     "output_type": "execute_result"
    },
    {
     "data": {
      "image/png": "[encoded data removed]",
      "text/plain": [
       "<Figure size 432x288 with 1 Axes>"
      ]
     },
     "metadata": {
      "needs_background": "light"
     },
     "output_type": "display_data"
    }
   ],
   "source": [
    "x_axis=np.arange(990,1040,0.2)\n",
    "response=intercept+coef[1]*x_axis+coef[2]*x_axis**2 +coef[3]*x_axis**3\n",
    "\n",
    "plt.scatter(df.AP,df.PE)\n",
    "plt.plot(x_axis,response,color='red')"
   ]
  },
  {
   "cell_type": "code",
   "execution_count": 136,
   "metadata": {},
   "outputs": [
    {
     "data": {
      "text/plain": [
       "array([ 0.00000000e+00, -1.61205140e+00,  3.09435167e-02, -1.48894948e-04])"
      ]
     },
     "execution_count": 136,
     "metadata": {},
     "output_type": "execute_result"
    }
   ],
   "source": [
    "# for RH and PE\n",
    "\n",
    "poly=PolynomialFeatures(3)\n",
    "\n",
    "x=df.RH\n",
    "y=df.PE\n",
    "\n",
    "X_train, X_test, Y_train, Y_test = train_test_split(x, y, test_size=0.2, random_state=101)\n",
    "#X_train=np.array(X_train)\n",
    "#X_train=X_train.reshape(-1,1)\n",
    "X_train=pd.DataFrame(X_train)\n",
    "X_test=pd.DataFrame(X_test)\n",
    "\n",
    "X_train_poly=poly.fit_transform(X_train)\n",
    "X_test_poly=poly.fit_transform(X_test)\n",
    "\n",
    "model=LinearRegression()\n",
    "model.fit(X_train_poly,Y_train)\n",
    "coef=model.coef_\n",
    "intercept=model.intercept_\n",
    "coef"
   ]
  },
  {
   "cell_type": "code",
   "execution_count": 137,
   "metadata": {},
   "outputs": [
    {
     "data": {
      "text/plain": [
       "array([460.20733325, 464.39937255, 450.54136462, ..., 455.50452805,\n",
       "       443.60223817, 462.40244362])"
      ]
     },
     "execution_count": 137,
     "metadata": {},
     "output_type": "execute_result"
    }
   ],
   "source": [
    "y_pred=model.predict(X_test_poly)\n",
    "y_pred"
   ]
  },
  {
   "cell_type": "code",
   "execution_count": 138,
   "metadata": {},
   "outputs": [
    {
     "data": {
      "text/plain": [
       "[<matplotlib.lines.Line2D at 0x1c3d7c13490>]"
      ]
     },
     "execution_count": 138,
     "metadata": {},
     "output_type": "execute_result"
    },
    {
     "data": {
      "image/png": "[encoded data removed]",
      "text/plain": [
       "<Figure size 432x288 with 1 Axes>"
      ]
     },
     "metadata": {
      "needs_background": "light"
     },
     "output_type": "display_data"
    }
   ],
   "source": [
    "x_axis=np.arange(20,100,0.1)\n",
    "response=intercept+coef[1]*x_axis+coef[2]*x_axis**2 +coef[3]*x_axis**3\n",
    "\n",
    "plt.scatter(df.RH,df.PE)\n",
    "#plt.plot(X_test,y_pred,color='red')\n",
    "plt.plot(x_axis,response,color='red')"
   ]
  },
  {
   "cell_type": "markdown",
   "metadata": {},
   "source": [
    "## (g)"
   ]
  },
  {
   "cell_type": "code",
   "execution_count": 74,
   "metadata": {},
   "outputs": [
    {
     "data": {
      "text/html": [
       "<div>\n",
       "<style scoped>\n",
       "    .dataframe tbody tr th:only-of-type {\n",
       "        vertical-align: middle;\n",
       "    }\n",
       "\n",
       "    .dataframe tbody tr th {\n",
       "        vertical-align: top;\n",
       "    }\n",
       "\n",
       "    .dataframe thead th {\n",
       "        text-align: right;\n",
       "    }\n",
       "</style>\n",
       "<table border=\"1\" class=\"dataframe\">\n",
       "  <thead>\n",
       "    <tr style=\"text-align: right;\">\n",
       "      <th></th>\n",
       "      <th>AT</th>\n",
       "      <th>V</th>\n",
       "      <th>AP</th>\n",
       "      <th>RH</th>\n",
       "      <th>PE</th>\n",
       "      <th>AT*V</th>\n",
       "      <th>AT*AP</th>\n",
       "      <th>AT*RH</th>\n",
       "      <th>V*AP</th>\n",
       "      <th>V*RH</th>\n",
       "      <th>AP*RH</th>\n",
       "      <th>coef</th>\n",
       "    </tr>\n",
       "  </thead>\n",
       "  <tbody>\n",
       "    <tr>\n",
       "      <th>0</th>\n",
       "      <td>14.96</td>\n",
       "      <td>41.76</td>\n",
       "      <td>1024.07</td>\n",
       "      <td>73.17</td>\n",
       "      <td>463.26</td>\n",
       "      <td>624.7296</td>\n",
       "      <td>15320.0872</td>\n",
       "      <td>1094.6232</td>\n",
       "      <td>42765.1632</td>\n",
       "      <td>3055.5792</td>\n",
       "      <td>74931.2019</td>\n",
       "      <td>1</td>\n",
       "    </tr>\n",
       "    <tr>\n",
       "      <th>1</th>\n",
       "      <td>25.18</td>\n",
       "      <td>62.96</td>\n",
       "      <td>1020.04</td>\n",
       "      <td>59.08</td>\n",
       "      <td>444.37</td>\n",
       "      <td>1585.3328</td>\n",
       "      <td>25684.6072</td>\n",
       "      <td>1487.6344</td>\n",
       "      <td>64221.7184</td>\n",
       "      <td>3719.6768</td>\n",
       "      <td>60263.9632</td>\n",
       "      <td>1</td>\n",
       "    </tr>\n",
       "    <tr>\n",
       "      <th>2</th>\n",
       "      <td>5.11</td>\n",
       "      <td>39.40</td>\n",
       "      <td>1012.16</td>\n",
       "      <td>92.14</td>\n",
       "      <td>488.56</td>\n",
       "      <td>201.3340</td>\n",
       "      <td>5172.1376</td>\n",
       "      <td>470.8354</td>\n",
       "      <td>39879.1040</td>\n",
       "      <td>3630.3160</td>\n",
       "      <td>93260.4224</td>\n",
       "      <td>1</td>\n",
       "    </tr>\n",
       "    <tr>\n",
       "      <th>3</th>\n",
       "      <td>20.86</td>\n",
       "      <td>57.32</td>\n",
       "      <td>1010.24</td>\n",
       "      <td>76.64</td>\n",
       "      <td>446.48</td>\n",
       "      <td>1195.6952</td>\n",
       "      <td>21073.6064</td>\n",
       "      <td>1598.7104</td>\n",
       "      <td>57906.9568</td>\n",
       "      <td>4393.0048</td>\n",
       "      <td>77424.7936</td>\n",
       "      <td>1</td>\n",
       "    </tr>\n",
       "    <tr>\n",
       "      <th>4</th>\n",
       "      <td>10.82</td>\n",
       "      <td>37.50</td>\n",
       "      <td>1009.23</td>\n",
       "      <td>96.62</td>\n",
       "      <td>473.90</td>\n",
       "      <td>405.7500</td>\n",
       "      <td>10919.8686</td>\n",
       "      <td>1045.4284</td>\n",
       "      <td>37846.1250</td>\n",
       "      <td>3623.2500</td>\n",
       "      <td>97511.8026</td>\n",
       "      <td>1</td>\n",
       "    </tr>\n",
       "    <tr>\n",
       "      <th>...</th>\n",
       "      <td>...</td>\n",
       "      <td>...</td>\n",
       "      <td>...</td>\n",
       "      <td>...</td>\n",
       "      <td>...</td>\n",
       "      <td>...</td>\n",
       "      <td>...</td>\n",
       "      <td>...</td>\n",
       "      <td>...</td>\n",
       "      <td>...</td>\n",
       "      <td>...</td>\n",
       "      <td>...</td>\n",
       "    </tr>\n",
       "    <tr>\n",
       "      <th>9563</th>\n",
       "      <td>16.65</td>\n",
       "      <td>49.69</td>\n",
       "      <td>1014.01</td>\n",
       "      <td>91.00</td>\n",
       "      <td>460.03</td>\n",
       "      <td>827.3385</td>\n",
       "      <td>16883.2665</td>\n",
       "      <td>1515.1500</td>\n",
       "      <td>50386.1569</td>\n",
       "      <td>4521.7900</td>\n",
       "      <td>92274.9100</td>\n",
       "      <td>1</td>\n",
       "    </tr>\n",
       "    <tr>\n",
       "      <th>9564</th>\n",
       "      <td>13.19</td>\n",
       "      <td>39.18</td>\n",
       "      <td>1023.67</td>\n",
       "      <td>66.78</td>\n",
       "      <td>469.62</td>\n",
       "      <td>516.7842</td>\n",
       "      <td>13502.2073</td>\n",
       "      <td>880.8282</td>\n",
       "      <td>40107.3906</td>\n",
       "      <td>2616.4404</td>\n",
       "      <td>68360.6826</td>\n",
       "      <td>1</td>\n",
       "    </tr>\n",
       "    <tr>\n",
       "      <th>9565</th>\n",
       "      <td>31.32</td>\n",
       "      <td>74.33</td>\n",
       "      <td>1012.92</td>\n",
       "      <td>36.48</td>\n",
       "      <td>429.57</td>\n",
       "      <td>2328.0156</td>\n",
       "      <td>31724.6544</td>\n",
       "      <td>1142.5536</td>\n",
       "      <td>75290.3436</td>\n",
       "      <td>2711.5584</td>\n",
       "      <td>36951.3216</td>\n",
       "      <td>1</td>\n",
       "    </tr>\n",
       "    <tr>\n",
       "      <th>9566</th>\n",
       "      <td>24.48</td>\n",
       "      <td>69.45</td>\n",
       "      <td>1013.86</td>\n",
       "      <td>62.39</td>\n",
       "      <td>435.74</td>\n",
       "      <td>1700.1360</td>\n",
       "      <td>24819.2928</td>\n",
       "      <td>1527.3072</td>\n",
       "      <td>70412.5770</td>\n",
       "      <td>4332.9855</td>\n",
       "      <td>63254.7254</td>\n",
       "      <td>1</td>\n",
       "    </tr>\n",
       "    <tr>\n",
       "      <th>9567</th>\n",
       "      <td>21.60</td>\n",
       "      <td>62.52</td>\n",
       "      <td>1017.23</td>\n",
       "      <td>67.87</td>\n",
       "      <td>453.28</td>\n",
       "      <td>1350.4320</td>\n",
       "      <td>21972.1680</td>\n",
       "      <td>1465.9920</td>\n",
       "      <td>63597.2196</td>\n",
       "      <td>4243.2324</td>\n",
       "      <td>69039.4001</td>\n",
       "      <td>1</td>\n",
       "    </tr>\n",
       "  </tbody>\n",
       "</table>\n",
       "<p>9568 rows × 12 columns</p>\n",
       "</div>"
      ],
      "text/plain": [
       "         AT      V       AP     RH      PE       AT*V       AT*AP      AT*RH  \\\n",
       "0     14.96  41.76  1024.07  73.17  463.26   624.7296  15320.0872  1094.6232   \n",
       "1     25.18  62.96  1020.04  59.08  444.37  1585.3328  25684.6072  1487.6344   \n",
       "2      5.11  39.40  1012.16  92.14  488.56   201.3340   5172.1376   470.8354   \n",
       "3     20.86  57.32  1010.24  76.64  446.48  1195.6952  21073.6064  1598.7104   \n",
       "4     10.82  37.50  1009.23  96.62  473.90   405.7500  10919.8686  1045.4284   \n",
       "...     ...    ...      ...    ...     ...        ...         ...        ...   \n",
       "9563  16.65  49.69  1014.01  91.00  460.03   827.3385  16883.2665  1515.1500   \n",
       "9564  13.19  39.18  1023.67  66.78  469.62   516.7842  13502.2073   880.8282   \n",
       "9565  31.32  74.33  1012.92  36.48  429.57  2328.0156  31724.6544  1142.5536   \n",
       "9566  24.48  69.45  1013.86  62.39  435.74  1700.1360  24819.2928  1527.3072   \n",
       "9567  21.60  62.52  1017.23  67.87  453.28  1350.4320  21972.1680  1465.9920   \n",
       "\n",
       "            V*AP       V*RH       AP*RH  coef  \n",
       "0     42765.1632  3055.5792  74931.2019     1  \n",
       "1     64221.7184  3719.6768  60263.9632     1  \n",
       "2     39879.1040  3630.3160  93260.4224     1  \n",
       "3     57906.9568  4393.0048  77424.7936     1  \n",
       "4     37846.1250  3623.2500  97511.8026     1  \n",
       "...          ...        ...         ...   ...  \n",
       "9563  50386.1569  4521.7900  92274.9100     1  \n",
       "9564  40107.3906  2616.4404  68360.6826     1  \n",
       "9565  75290.3436  2711.5584  36951.3216     1  \n",
       "9566  70412.5770  4332.9855  63254.7254     1  \n",
       "9567  63597.2196  4243.2324  69039.4001     1  \n",
       "\n",
       "[9568 rows x 12 columns]"
      ]
     },
     "execution_count": 74,
     "metadata": {},
     "output_type": "execute_result"
    }
   ],
   "source": [
    "df_2=df.copy()\n",
    "df_2['AT*V']=df_2['AT']*df_2['V']\n",
    "df_2['AT*AP']=df_2['AT']*df_2['AP']\n",
    "df_2['AT*RH']=df_2['AT']*df_2['RH']\n",
    "df_2['V*AP']=df_2['V']*df_2['AP']\n",
    "df_2['V*RH']=df_2['V']*df_2['RH']\n",
    "df_2['AP*RH']=df_2['AP']*df_2['RH']\n",
    "df_2['coef']=1\n",
    "df_2"
   ]
  },
  {
   "cell_type": "code",
   "execution_count": 75,
   "metadata": {},
   "outputs": [],
   "source": [
    "# prepare data\n",
    "x=df_2.drop('PE',axis=1)\n",
    "y=df_2.PE\n",
    "X_train, X_test, Y_train, Y_test = train_test_split(x, y, test_size=0.3)"
   ]
  },
  {
   "cell_type": "code",
   "execution_count": 76,
   "metadata": {},
   "outputs": [
    {
     "name": "stdout",
     "output_type": "stream",
     "text": [
      "                            OLS Regression Results                            \n",
      "==============================================================================\n",
      "Dep. Variable:                     PE   R-squared:                       0.936\n",
      "Model:                            OLS   Adj. R-squared:                  0.935\n",
      "Method:                 Least Squares   F-statistic:                     9711.\n",
      "Date:                Thu, 10 Feb 2022   Prob (F-statistic):               0.00\n",
      "Time:                        14:55:57   Log-Likelihood:                -19315.\n",
      "No. Observations:                6697   AIC:                         3.865e+04\n",
      "Df Residuals:                    6686   BIC:                         3.873e+04\n",
      "Df Model:                          10                                         \n",
      "Covariance Type:            nonrobust                                         \n",
      "==============================================================================\n",
      "                 coef    std err          t      P>|t|      [0.025      0.975]\n",
      "------------------------------------------------------------------------------\n",
      "AT            -3.7643      2.798     -1.345      0.179      -9.249       1.720\n",
      "V             -7.6791      1.602     -4.793      0.000     -10.820      -4.538\n",
      "AP            -0.1357      0.093     -1.461      0.144      -0.318       0.046\n",
      "RH             1.9331      0.937      2.063      0.039       0.096       3.770\n",
      "AT*V           0.0201      0.001     18.677      0.000       0.018       0.022\n",
      "AT*AP          0.0012      0.003      0.427      0.670      -0.004       0.007\n",
      "AT*RH         -0.0047      0.001     -4.841      0.000      -0.007      -0.003\n",
      "V*AP           0.0069      0.002      4.381      0.000       0.004       0.010\n",
      "V*RH           0.0001      0.001      0.220      0.826      -0.001       0.001\n",
      "AP*RH         -0.0019      0.001     -2.116      0.034      -0.004      -0.000\n",
      "coef         666.1922     95.083      7.006      0.000     479.800     852.585\n",
      "==============================================================================\n",
      "Omnibus:                      987.141   Durbin-Watson:                   2.011\n",
      "Prob(Omnibus):                  0.000   Jarque-Bera (JB):             5998.734\n",
      "Skew:                          -0.559   Prob(JB):                         0.00\n",
      "Kurtosis:                       7.500   Cond. No.                     1.71e+08\n",
      "==============================================================================\n",
      "\n",
      "Notes:\n",
      "[1] Standard Errors assume that the covariance matrix of the errors is correctly specified.\n",
      "[2] The condition number is large, 1.71e+08. This might indicate that there are\n",
      "strong multicollinearity or other numerical problems.\n"
     ]
    }
   ],
   "source": [
    "results=sm.OLS(Y_train,X_train).fit()\n",
    "print(results.summary())\n",
    "coef_mr=results.params"
   ]
  },
  {
   "cell_type": "code",
   "execution_count": 77,
   "metadata": {},
   "outputs": [],
   "source": [
    "pred=results.predict(X_test)"
   ]
  },
  {
   "cell_type": "code",
   "execution_count": 78,
   "metadata": {},
   "outputs": [],
   "source": [
    "MSE = mean_squared_error(Y_test,pred)"
   ]
  },
  {
   "cell_type": "code",
   "execution_count": 79,
   "metadata": {},
   "outputs": [
    {
     "data": {
      "text/plain": [
       "18.158624980249712"
      ]
     },
     "execution_count": 79,
     "metadata": {},
     "output_type": "execute_result"
    }
   ],
   "source": [
    "MSE"
   ]
  },
  {
   "cell_type": "code",
   "execution_count": 139,
   "metadata": {},
   "outputs": [
    {
     "name": "stdout",
     "output_type": "stream",
     "text": [
      "The result showed that AT*V, AT*RH, V*AP, adn AP*RH are statistically significant.\n",
      "However, AT and AP becomes insignificant, indicating that when taken into account the interactions between variables,\n",
      "AT and AP along may not be a strong variable.\n"
     ]
    }
   ],
   "source": [
    "print('The result showed that AT*V, AT*RH, V*AP, adn AP*RH are statistically significant.')\n",
    "print(\"However, AT and AP becomes insignificant, indicating that when taken into account the interactions between variables,\\nAT and AP along may not be a strong variable.\")"
   ]
  },
  {
   "cell_type": "code",
   "execution_count": 81,
   "metadata": {},
   "outputs": [],
   "source": [
    "LR=LinearRegression(normalize=True)"
   ]
  },
  {
   "cell_type": "code",
   "execution_count": 142,
   "metadata": {},
   "outputs": [
    {
     "data": {
      "text/plain": [
       "LinearRegression(normalize=True)"
      ]
     },
     "execution_count": 142,
     "metadata": {},
     "output_type": "execute_result"
    }
   ],
   "source": [
    "LR.fit(X_train,Y_train)"
   ]
  },
  {
   "cell_type": "code",
   "execution_count": 144,
   "metadata": {},
   "outputs": [
    {
     "data": {
      "text/plain": [
       "array([0.45438737])"
      ]
     },
     "execution_count": 144,
     "metadata": {},
     "output_type": "execute_result"
    }
   ],
   "source": [
    "LR.coef_"
   ]
  },
  {
   "cell_type": "code",
   "execution_count": 145,
   "metadata": {},
   "outputs": [
    {
     "data": {
      "text/plain": [
       "421.2831579854492"
      ]
     },
     "execution_count": 145,
     "metadata": {},
     "output_type": "execute_result"
    }
   ],
   "source": [
    "LR.intercept_"
   ]
  },
  {
   "cell_type": "markdown",
   "metadata": {},
   "source": [
    "## (h)"
   ]
  },
  {
   "cell_type": "code",
   "execution_count": 157,
   "metadata": {},
   "outputs": [
    {
     "data": {
      "text/html": [
       "<div>\n",
       "<style scoped>\n",
       "    .dataframe tbody tr th:only-of-type {\n",
       "        vertical-align: middle;\n",
       "    }\n",
       "\n",
       "    .dataframe tbody tr th {\n",
       "        vertical-align: top;\n",
       "    }\n",
       "\n",
       "    .dataframe thead th {\n",
       "        text-align: right;\n",
       "    }\n",
       "</style>\n",
       "<table border=\"1\" class=\"dataframe\">\n",
       "  <thead>\n",
       "    <tr style=\"text-align: right;\">\n",
       "      <th></th>\n",
       "      <th>AT</th>\n",
       "      <th>V</th>\n",
       "      <th>AP</th>\n",
       "      <th>RH</th>\n",
       "      <th>PE</th>\n",
       "      <th>AT*V</th>\n",
       "      <th>AT*AP</th>\n",
       "      <th>AT*RH</th>\n",
       "      <th>V*AP</th>\n",
       "      <th>V*RH</th>\n",
       "      <th>AP*RH</th>\n",
       "      <th>coef</th>\n",
       "      <th>AT**2</th>\n",
       "      <th>V**2</th>\n",
       "      <th>AP**2</th>\n",
       "      <th>RH**2</th>\n",
       "    </tr>\n",
       "  </thead>\n",
       "  <tbody>\n",
       "    <tr>\n",
       "      <th>0</th>\n",
       "      <td>14.96</td>\n",
       "      <td>41.76</td>\n",
       "      <td>1024.07</td>\n",
       "      <td>73.17</td>\n",
       "      <td>463.26</td>\n",
       "      <td>624.7296</td>\n",
       "      <td>15320.0872</td>\n",
       "      <td>1094.6232</td>\n",
       "      <td>42765.1632</td>\n",
       "      <td>3055.5792</td>\n",
       "      <td>74931.2019</td>\n",
       "      <td>1</td>\n",
       "      <td>223.8016</td>\n",
       "      <td>1743.8976</td>\n",
       "      <td>1.048719e+06</td>\n",
       "      <td>5353.8489</td>\n",
       "    </tr>\n",
       "    <tr>\n",
       "      <th>1</th>\n",
       "      <td>25.18</td>\n",
       "      <td>62.96</td>\n",
       "      <td>1020.04</td>\n",
       "      <td>59.08</td>\n",
       "      <td>444.37</td>\n",
       "      <td>1585.3328</td>\n",
       "      <td>25684.6072</td>\n",
       "      <td>1487.6344</td>\n",
       "      <td>64221.7184</td>\n",
       "      <td>3719.6768</td>\n",
       "      <td>60263.9632</td>\n",
       "      <td>1</td>\n",
       "      <td>634.0324</td>\n",
       "      <td>3963.9616</td>\n",
       "      <td>1.040482e+06</td>\n",
       "      <td>3490.4464</td>\n",
       "    </tr>\n",
       "    <tr>\n",
       "      <th>2</th>\n",
       "      <td>5.11</td>\n",
       "      <td>39.40</td>\n",
       "      <td>1012.16</td>\n",
       "      <td>92.14</td>\n",
       "      <td>488.56</td>\n",
       "      <td>201.3340</td>\n",
       "      <td>5172.1376</td>\n",
       "      <td>470.8354</td>\n",
       "      <td>39879.1040</td>\n",
       "      <td>3630.3160</td>\n",
       "      <td>93260.4224</td>\n",
       "      <td>1</td>\n",
       "      <td>26.1121</td>\n",
       "      <td>1552.3600</td>\n",
       "      <td>1.024468e+06</td>\n",
       "      <td>8489.7796</td>\n",
       "    </tr>\n",
       "    <tr>\n",
       "      <th>3</th>\n",
       "      <td>20.86</td>\n",
       "      <td>57.32</td>\n",
       "      <td>1010.24</td>\n",
       "      <td>76.64</td>\n",
       "      <td>446.48</td>\n",
       "      <td>1195.6952</td>\n",
       "      <td>21073.6064</td>\n",
       "      <td>1598.7104</td>\n",
       "      <td>57906.9568</td>\n",
       "      <td>4393.0048</td>\n",
       "      <td>77424.7936</td>\n",
       "      <td>1</td>\n",
       "      <td>435.1396</td>\n",
       "      <td>3285.5824</td>\n",
       "      <td>1.020585e+06</td>\n",
       "      <td>5873.6896</td>\n",
       "    </tr>\n",
       "    <tr>\n",
       "      <th>4</th>\n",
       "      <td>10.82</td>\n",
       "      <td>37.50</td>\n",
       "      <td>1009.23</td>\n",
       "      <td>96.62</td>\n",
       "      <td>473.90</td>\n",
       "      <td>405.7500</td>\n",
       "      <td>10919.8686</td>\n",
       "      <td>1045.4284</td>\n",
       "      <td>37846.1250</td>\n",
       "      <td>3623.2500</td>\n",
       "      <td>97511.8026</td>\n",
       "      <td>1</td>\n",
       "      <td>117.0724</td>\n",
       "      <td>1406.2500</td>\n",
       "      <td>1.018545e+06</td>\n",
       "      <td>9335.4244</td>\n",
       "    </tr>\n",
       "    <tr>\n",
       "      <th>...</th>\n",
       "      <td>...</td>\n",
       "      <td>...</td>\n",
       "      <td>...</td>\n",
       "      <td>...</td>\n",
       "      <td>...</td>\n",
       "      <td>...</td>\n",
       "      <td>...</td>\n",
       "      <td>...</td>\n",
       "      <td>...</td>\n",
       "      <td>...</td>\n",
       "      <td>...</td>\n",
       "      <td>...</td>\n",
       "      <td>...</td>\n",
       "      <td>...</td>\n",
       "      <td>...</td>\n",
       "      <td>...</td>\n",
       "    </tr>\n",
       "    <tr>\n",
       "      <th>9563</th>\n",
       "      <td>16.65</td>\n",
       "      <td>49.69</td>\n",
       "      <td>1014.01</td>\n",
       "      <td>91.00</td>\n",
       "      <td>460.03</td>\n",
       "      <td>827.3385</td>\n",
       "      <td>16883.2665</td>\n",
       "      <td>1515.1500</td>\n",
       "      <td>50386.1569</td>\n",
       "      <td>4521.7900</td>\n",
       "      <td>92274.9100</td>\n",
       "      <td>1</td>\n",
       "      <td>277.2225</td>\n",
       "      <td>2469.0961</td>\n",
       "      <td>1.028216e+06</td>\n",
       "      <td>8281.0000</td>\n",
       "    </tr>\n",
       "    <tr>\n",
       "      <th>9564</th>\n",
       "      <td>13.19</td>\n",
       "      <td>39.18</td>\n",
       "      <td>1023.67</td>\n",
       "      <td>66.78</td>\n",
       "      <td>469.62</td>\n",
       "      <td>516.7842</td>\n",
       "      <td>13502.2073</td>\n",
       "      <td>880.8282</td>\n",
       "      <td>40107.3906</td>\n",
       "      <td>2616.4404</td>\n",
       "      <td>68360.6826</td>\n",
       "      <td>1</td>\n",
       "      <td>173.9761</td>\n",
       "      <td>1535.0724</td>\n",
       "      <td>1.047900e+06</td>\n",
       "      <td>4459.5684</td>\n",
       "    </tr>\n",
       "    <tr>\n",
       "      <th>9565</th>\n",
       "      <td>31.32</td>\n",
       "      <td>74.33</td>\n",
       "      <td>1012.92</td>\n",
       "      <td>36.48</td>\n",
       "      <td>429.57</td>\n",
       "      <td>2328.0156</td>\n",
       "      <td>31724.6544</td>\n",
       "      <td>1142.5536</td>\n",
       "      <td>75290.3436</td>\n",
       "      <td>2711.5584</td>\n",
       "      <td>36951.3216</td>\n",
       "      <td>1</td>\n",
       "      <td>980.9424</td>\n",
       "      <td>5524.9489</td>\n",
       "      <td>1.026007e+06</td>\n",
       "      <td>1330.7904</td>\n",
       "    </tr>\n",
       "    <tr>\n",
       "      <th>9566</th>\n",
       "      <td>24.48</td>\n",
       "      <td>69.45</td>\n",
       "      <td>1013.86</td>\n",
       "      <td>62.39</td>\n",
       "      <td>435.74</td>\n",
       "      <td>1700.1360</td>\n",
       "      <td>24819.2928</td>\n",
       "      <td>1527.3072</td>\n",
       "      <td>70412.5770</td>\n",
       "      <td>4332.9855</td>\n",
       "      <td>63254.7254</td>\n",
       "      <td>1</td>\n",
       "      <td>599.2704</td>\n",
       "      <td>4823.3025</td>\n",
       "      <td>1.027912e+06</td>\n",
       "      <td>3892.5121</td>\n",
       "    </tr>\n",
       "    <tr>\n",
       "      <th>9567</th>\n",
       "      <td>21.60</td>\n",
       "      <td>62.52</td>\n",
       "      <td>1017.23</td>\n",
       "      <td>67.87</td>\n",
       "      <td>453.28</td>\n",
       "      <td>1350.4320</td>\n",
       "      <td>21972.1680</td>\n",
       "      <td>1465.9920</td>\n",
       "      <td>63597.2196</td>\n",
       "      <td>4243.2324</td>\n",
       "      <td>69039.4001</td>\n",
       "      <td>1</td>\n",
       "      <td>466.5600</td>\n",
       "      <td>3908.7504</td>\n",
       "      <td>1.034757e+06</td>\n",
       "      <td>4606.3369</td>\n",
       "    </tr>\n",
       "  </tbody>\n",
       "</table>\n",
       "<p>9568 rows × 16 columns</p>\n",
       "</div>"
      ],
      "text/plain": [
       "         AT      V       AP     RH      PE       AT*V       AT*AP      AT*RH  \\\n",
       "0     14.96  41.76  1024.07  73.17  463.26   624.7296  15320.0872  1094.6232   \n",
       "1     25.18  62.96  1020.04  59.08  444.37  1585.3328  25684.6072  1487.6344   \n",
       "2      5.11  39.40  1012.16  92.14  488.56   201.3340   5172.1376   470.8354   \n",
       "3     20.86  57.32  1010.24  76.64  446.48  1195.6952  21073.6064  1598.7104   \n",
       "4     10.82  37.50  1009.23  96.62  473.90   405.7500  10919.8686  1045.4284   \n",
       "...     ...    ...      ...    ...     ...        ...         ...        ...   \n",
       "9563  16.65  49.69  1014.01  91.00  460.03   827.3385  16883.2665  1515.1500   \n",
       "9564  13.19  39.18  1023.67  66.78  469.62   516.7842  13502.2073   880.8282   \n",
       "9565  31.32  74.33  1012.92  36.48  429.57  2328.0156  31724.6544  1142.5536   \n",
       "9566  24.48  69.45  1013.86  62.39  435.74  1700.1360  24819.2928  1527.3072   \n",
       "9567  21.60  62.52  1017.23  67.87  453.28  1350.4320  21972.1680  1465.9920   \n",
       "\n",
       "            V*AP       V*RH       AP*RH  coef     AT**2       V**2  \\\n",
       "0     42765.1632  3055.5792  74931.2019     1  223.8016  1743.8976   \n",
       "1     64221.7184  3719.6768  60263.9632     1  634.0324  3963.9616   \n",
       "2     39879.1040  3630.3160  93260.4224     1   26.1121  1552.3600   \n",
       "3     57906.9568  4393.0048  77424.7936     1  435.1396  3285.5824   \n",
       "4     37846.1250  3623.2500  97511.8026     1  117.0724  1406.2500   \n",
       "...          ...        ...         ...   ...       ...        ...   \n",
       "9563  50386.1569  4521.7900  92274.9100     1  277.2225  2469.0961   \n",
       "9564  40107.3906  2616.4404  68360.6826     1  173.9761  1535.0724   \n",
       "9565  75290.3436  2711.5584  36951.3216     1  980.9424  5524.9489   \n",
       "9566  70412.5770  4332.9855  63254.7254     1  599.2704  4823.3025   \n",
       "9567  63597.2196  4243.2324  69039.4001     1  466.5600  3908.7504   \n",
       "\n",
       "             AP**2      RH**2  \n",
       "0     1.048719e+06  5353.8489  \n",
       "1     1.040482e+06  3490.4464  \n",
       "2     1.024468e+06  8489.7796  \n",
       "3     1.020585e+06  5873.6896  \n",
       "4     1.018545e+06  9335.4244  \n",
       "...            ...        ...  \n",
       "9563  1.028216e+06  8281.0000  \n",
       "9564  1.047900e+06  4459.5684  \n",
       "9565  1.026007e+06  1330.7904  \n",
       "9566  1.027912e+06  3892.5121  \n",
       "9567  1.034757e+06  4606.3369  \n",
       "\n",
       "[9568 rows x 16 columns]"
      ]
     },
     "execution_count": 157,
     "metadata": {},
     "output_type": "execute_result"
    }
   ],
   "source": [
    "df3=df_2.copy()\n",
    "df3['AT**2']=df3.AT*df3.AT\n",
    "df3['V**2']=df3.V*df3.V\n",
    "df3['AP**2']=df3.AP*df3.AP\n",
    "df3['RH**2']=df3.RH*df3.RH\n",
    "\n",
    "df3"
   ]
  },
  {
   "cell_type": "code",
   "execution_count": 158,
   "metadata": {},
   "outputs": [],
   "source": [
    "x=df3.drop('PE',axis=1)\n",
    "y=df3.PE\n",
    "X_train, X_test, Y_train, Y_test = train_test_split(x, y, test_size=0.3)"
   ]
  },
  {
   "cell_type": "code",
   "execution_count": 159,
   "metadata": {},
   "outputs": [
    {
     "name": "stdout",
     "output_type": "stream",
     "text": [
      "                            OLS Regression Results                            \n",
      "==============================================================================\n",
      "Dep. Variable:                     PE   R-squared:                       0.938\n",
      "Model:                            OLS   Adj. R-squared:                  0.938\n",
      "Method:                 Least Squares   F-statistic:                     7220.\n",
      "Date:                Thu, 10 Feb 2022   Prob (F-statistic):               0.00\n",
      "Time:                        16:40:39   Log-Likelihood:                -19185.\n",
      "No. Observations:                6697   AIC:                         3.840e+04\n",
      "Df Residuals:                    6682   BIC:                         3.850e+04\n",
      "Df Model:                          14                                         \n",
      "Covariance Type:            nonrobust                                         \n",
      "==============================================================================\n",
      "                 coef    std err          t      P>|t|      [0.025      0.975]\n",
      "------------------------------------------------------------------------------\n",
      "AT            -6.1314      3.731     -1.643      0.100     -13.445       1.182\n",
      "V             -3.0148      1.807     -1.668      0.095      -6.557       0.528\n",
      "AP            15.2304      2.791      5.457      0.000       9.759      20.702\n",
      "RH             3.8950      1.064      3.659      0.000       1.808       5.982\n",
      "AT*V           0.0119      0.003      3.813      0.000       0.006       0.018\n",
      "AT*AP          0.0034      0.004      0.935      0.350      -0.004       0.010\n",
      "AT*RH         -0.0060      0.002     -3.337      0.001      -0.010      -0.002\n",
      "V*AP           0.0026      0.002      1.481      0.139      -0.001       0.006\n",
      "V*RH           0.0008      0.001      0.977      0.329      -0.001       0.002\n",
      "AP*RH         -0.0036      0.001     -3.517      0.000      -0.006      -0.002\n",
      "coef       -7300.2630   1439.838     -5.070      0.000   -1.01e+04   -4477.722\n",
      "AT**2          0.0175      0.004      4.791      0.000       0.010       0.025\n",
      "V**2          -0.0020      0.001     -2.155      0.031      -0.004      -0.000\n",
      "AP**2         -0.0074      0.001     -5.481      0.000      -0.010      -0.005\n",
      "RH**2         -0.0019      0.000     -6.061      0.000      -0.003      -0.001\n",
      "==============================================================================\n",
      "Omnibus:                     1159.008   Durbin-Watson:                   2.007\n",
      "Prob(Omnibus):                  0.000   Jarque-Bera (JB):             8982.938\n",
      "Skew:                          -0.612   Prob(JB):                         0.00\n",
      "Kurtosis:                       8.540   Cond. No.                     2.86e+10\n",
      "==============================================================================\n",
      "\n",
      "Notes:\n",
      "[1] Standard Errors assume that the covariance matrix of the errors is correctly specified.\n",
      "[2] The condition number is large, 2.86e+10. This might indicate that there are\n",
      "strong multicollinearity or other numerical problems.\n"
     ]
    }
   ],
   "source": [
    "results=sm.OLS(Y_train,X_train).fit()\n",
    "print(results.summary())\n",
    "coef_result=results.params"
   ]
  },
  {
   "cell_type": "code",
   "execution_count": 160,
   "metadata": {},
   "outputs": [],
   "source": [
    "y_pred_all=results.predict(X_test)"
   ]
  },
  {
   "cell_type": "code",
   "execution_count": 161,
   "metadata": {},
   "outputs": [
    {
     "name": "stdout",
     "output_type": "stream",
     "text": [
      "The MSE for testing set is 18.340384603150447\n"
     ]
    }
   ],
   "source": [
    "MSE_test_all = mean_squared_error(Y_test,y_pred_all)\n",
    "print(f'The MSE for testing set is {MSE_test_all}')"
   ]
  },
  {
   "cell_type": "code",
   "execution_count": 162,
   "metadata": {},
   "outputs": [
    {
     "name": "stdout",
     "output_type": "stream",
     "text": [
      "The MSE for training set is 18.019528403816313\n"
     ]
    }
   ],
   "source": [
    "y_pred_train_all=results.predict(X_train)\n",
    "MSE_train_all=mean_squared_error(Y_train,y_pred_train_all)\n",
    "print(f'The MSE for training set is {MSE_train_all}')"
   ]
  },
  {
   "cell_type": "code",
   "execution_count": 163,
   "metadata": {},
   "outputs": [
    {
     "name": "stdout",
     "output_type": "stream",
     "text": [
      "Drop AT, AT*AP, V*AP, V*RH, and V since the p value is too high\n"
     ]
    }
   ],
   "source": [
    "print('Drop AT, AT*AP, V*AP, V*RH, and V since the p value is too high')"
   ]
  },
  {
   "cell_type": "code",
   "execution_count": 164,
   "metadata": {},
   "outputs": [
    {
     "data": {
      "text/html": [
       "<div>\n",
       "<style scoped>\n",
       "    .dataframe tbody tr th:only-of-type {\n",
       "        vertical-align: middle;\n",
       "    }\n",
       "\n",
       "    .dataframe tbody tr th {\n",
       "        vertical-align: top;\n",
       "    }\n",
       "\n",
       "    .dataframe thead th {\n",
       "        text-align: right;\n",
       "    }\n",
       "</style>\n",
       "<table border=\"1\" class=\"dataframe\">\n",
       "  <thead>\n",
       "    <tr style=\"text-align: right;\">\n",
       "      <th></th>\n",
       "      <th>AP</th>\n",
       "      <th>RH</th>\n",
       "      <th>PE</th>\n",
       "      <th>AT*V</th>\n",
       "      <th>AT*RH</th>\n",
       "      <th>AP*RH</th>\n",
       "      <th>coef</th>\n",
       "      <th>AT**2</th>\n",
       "      <th>V**2</th>\n",
       "      <th>AP**2</th>\n",
       "      <th>RH**2</th>\n",
       "    </tr>\n",
       "  </thead>\n",
       "  <tbody>\n",
       "    <tr>\n",
       "      <th>0</th>\n",
       "      <td>1024.07</td>\n",
       "      <td>73.17</td>\n",
       "      <td>463.26</td>\n",
       "      <td>624.7296</td>\n",
       "      <td>1094.6232</td>\n",
       "      <td>74931.2019</td>\n",
       "      <td>1</td>\n",
       "      <td>223.8016</td>\n",
       "      <td>1743.8976</td>\n",
       "      <td>1.048719e+06</td>\n",
       "      <td>5353.8489</td>\n",
       "    </tr>\n",
       "    <tr>\n",
       "      <th>1</th>\n",
       "      <td>1020.04</td>\n",
       "      <td>59.08</td>\n",
       "      <td>444.37</td>\n",
       "      <td>1585.3328</td>\n",
       "      <td>1487.6344</td>\n",
       "      <td>60263.9632</td>\n",
       "      <td>1</td>\n",
       "      <td>634.0324</td>\n",
       "      <td>3963.9616</td>\n",
       "      <td>1.040482e+06</td>\n",
       "      <td>3490.4464</td>\n",
       "    </tr>\n",
       "    <tr>\n",
       "      <th>2</th>\n",
       "      <td>1012.16</td>\n",
       "      <td>92.14</td>\n",
       "      <td>488.56</td>\n",
       "      <td>201.3340</td>\n",
       "      <td>470.8354</td>\n",
       "      <td>93260.4224</td>\n",
       "      <td>1</td>\n",
       "      <td>26.1121</td>\n",
       "      <td>1552.3600</td>\n",
       "      <td>1.024468e+06</td>\n",
       "      <td>8489.7796</td>\n",
       "    </tr>\n",
       "    <tr>\n",
       "      <th>3</th>\n",
       "      <td>1010.24</td>\n",
       "      <td>76.64</td>\n",
       "      <td>446.48</td>\n",
       "      <td>1195.6952</td>\n",
       "      <td>1598.7104</td>\n",
       "      <td>77424.7936</td>\n",
       "      <td>1</td>\n",
       "      <td>435.1396</td>\n",
       "      <td>3285.5824</td>\n",
       "      <td>1.020585e+06</td>\n",
       "      <td>5873.6896</td>\n",
       "    </tr>\n",
       "    <tr>\n",
       "      <th>4</th>\n",
       "      <td>1009.23</td>\n",
       "      <td>96.62</td>\n",
       "      <td>473.90</td>\n",
       "      <td>405.7500</td>\n",
       "      <td>1045.4284</td>\n",
       "      <td>97511.8026</td>\n",
       "      <td>1</td>\n",
       "      <td>117.0724</td>\n",
       "      <td>1406.2500</td>\n",
       "      <td>1.018545e+06</td>\n",
       "      <td>9335.4244</td>\n",
       "    </tr>\n",
       "    <tr>\n",
       "      <th>...</th>\n",
       "      <td>...</td>\n",
       "      <td>...</td>\n",
       "      <td>...</td>\n",
       "      <td>...</td>\n",
       "      <td>...</td>\n",
       "      <td>...</td>\n",
       "      <td>...</td>\n",
       "      <td>...</td>\n",
       "      <td>...</td>\n",
       "      <td>...</td>\n",
       "      <td>...</td>\n",
       "    </tr>\n",
       "    <tr>\n",
       "      <th>9563</th>\n",
       "      <td>1014.01</td>\n",
       "      <td>91.00</td>\n",
       "      <td>460.03</td>\n",
       "      <td>827.3385</td>\n",
       "      <td>1515.1500</td>\n",
       "      <td>92274.9100</td>\n",
       "      <td>1</td>\n",
       "      <td>277.2225</td>\n",
       "      <td>2469.0961</td>\n",
       "      <td>1.028216e+06</td>\n",
       "      <td>8281.0000</td>\n",
       "    </tr>\n",
       "    <tr>\n",
       "      <th>9564</th>\n",
       "      <td>1023.67</td>\n",
       "      <td>66.78</td>\n",
       "      <td>469.62</td>\n",
       "      <td>516.7842</td>\n",
       "      <td>880.8282</td>\n",
       "      <td>68360.6826</td>\n",
       "      <td>1</td>\n",
       "      <td>173.9761</td>\n",
       "      <td>1535.0724</td>\n",
       "      <td>1.047900e+06</td>\n",
       "      <td>4459.5684</td>\n",
       "    </tr>\n",
       "    <tr>\n",
       "      <th>9565</th>\n",
       "      <td>1012.92</td>\n",
       "      <td>36.48</td>\n",
       "      <td>429.57</td>\n",
       "      <td>2328.0156</td>\n",
       "      <td>1142.5536</td>\n",
       "      <td>36951.3216</td>\n",
       "      <td>1</td>\n",
       "      <td>980.9424</td>\n",
       "      <td>5524.9489</td>\n",
       "      <td>1.026007e+06</td>\n",
       "      <td>1330.7904</td>\n",
       "    </tr>\n",
       "    <tr>\n",
       "      <th>9566</th>\n",
       "      <td>1013.86</td>\n",
       "      <td>62.39</td>\n",
       "      <td>435.74</td>\n",
       "      <td>1700.1360</td>\n",
       "      <td>1527.3072</td>\n",
       "      <td>63254.7254</td>\n",
       "      <td>1</td>\n",
       "      <td>599.2704</td>\n",
       "      <td>4823.3025</td>\n",
       "      <td>1.027912e+06</td>\n",
       "      <td>3892.5121</td>\n",
       "    </tr>\n",
       "    <tr>\n",
       "      <th>9567</th>\n",
       "      <td>1017.23</td>\n",
       "      <td>67.87</td>\n",
       "      <td>453.28</td>\n",
       "      <td>1350.4320</td>\n",
       "      <td>1465.9920</td>\n",
       "      <td>69039.4001</td>\n",
       "      <td>1</td>\n",
       "      <td>466.5600</td>\n",
       "      <td>3908.7504</td>\n",
       "      <td>1.034757e+06</td>\n",
       "      <td>4606.3369</td>\n",
       "    </tr>\n",
       "  </tbody>\n",
       "</table>\n",
       "<p>9568 rows × 11 columns</p>\n",
       "</div>"
      ],
      "text/plain": [
       "           AP     RH      PE       AT*V      AT*RH       AP*RH  coef  \\\n",
       "0     1024.07  73.17  463.26   624.7296  1094.6232  74931.2019     1   \n",
       "1     1020.04  59.08  444.37  1585.3328  1487.6344  60263.9632     1   \n",
       "2     1012.16  92.14  488.56   201.3340   470.8354  93260.4224     1   \n",
       "3     1010.24  76.64  446.48  1195.6952  1598.7104  77424.7936     1   \n",
       "4     1009.23  96.62  473.90   405.7500  1045.4284  97511.8026     1   \n",
       "...       ...    ...     ...        ...        ...         ...   ...   \n",
       "9563  1014.01  91.00  460.03   827.3385  1515.1500  92274.9100     1   \n",
       "9564  1023.67  66.78  469.62   516.7842   880.8282  68360.6826     1   \n",
       "9565  1012.92  36.48  429.57  2328.0156  1142.5536  36951.3216     1   \n",
       "9566  1013.86  62.39  435.74  1700.1360  1527.3072  63254.7254     1   \n",
       "9567  1017.23  67.87  453.28  1350.4320  1465.9920  69039.4001     1   \n",
       "\n",
       "         AT**2       V**2         AP**2      RH**2  \n",
       "0     223.8016  1743.8976  1.048719e+06  5353.8489  \n",
       "1     634.0324  3963.9616  1.040482e+06  3490.4464  \n",
       "2      26.1121  1552.3600  1.024468e+06  8489.7796  \n",
       "3     435.1396  3285.5824  1.020585e+06  5873.6896  \n",
       "4     117.0724  1406.2500  1.018545e+06  9335.4244  \n",
       "...        ...        ...           ...        ...  \n",
       "9563  277.2225  2469.0961  1.028216e+06  8281.0000  \n",
       "9564  173.9761  1535.0724  1.047900e+06  4459.5684  \n",
       "9565  980.9424  5524.9489  1.026007e+06  1330.7904  \n",
       "9566  599.2704  4823.3025  1.027912e+06  3892.5121  \n",
       "9567  466.5600  3908.7504  1.034757e+06  4606.3369  \n",
       "\n",
       "[9568 rows x 11 columns]"
      ]
     },
     "execution_count": 164,
     "metadata": {},
     "output_type": "execute_result"
    }
   ],
   "source": [
    "df4=df3.copy()\n",
    "df4=df4.drop(['AT','AT*AP','V*AP','V*RH','V'],axis=1)\n",
    "df4"
   ]
  },
  {
   "cell_type": "code",
   "execution_count": 165,
   "metadata": {},
   "outputs": [
    {
     "name": "stdout",
     "output_type": "stream",
     "text": [
      "                            OLS Regression Results                            \n",
      "==============================================================================\n",
      "Dep. Variable:                     PE   R-squared:                       0.933\n",
      "Model:                            OLS   Adj. R-squared:                  0.933\n",
      "Method:                 Least Squares   F-statistic:                 1.036e+04\n",
      "Date:                Thu, 10 Feb 2022   Prob (F-statistic):               0.00\n",
      "Time:                        16:42:22   Log-Likelihood:                -19468.\n",
      "No. Observations:                6697   AIC:                         3.896e+04\n",
      "Df Residuals:                    6687   BIC:                         3.903e+04\n",
      "Df Model:                           9                                         \n",
      "Covariance Type:            nonrobust                                         \n",
      "==============================================================================\n",
      "                 coef    std err          t      P>|t|      [0.025      0.975]\n",
      "------------------------------------------------------------------------------\n",
      "AP            11.6099      2.218      5.235      0.000       7.263      15.957\n",
      "RH             9.4991      0.764     12.436      0.000       8.002      10.997\n",
      "AT*V           0.0010      0.002      0.448      0.654      -0.003       0.005\n",
      "AT*RH         -0.0258      0.000    -57.962      0.000      -0.027      -0.025\n",
      "AP*RH         -0.0082      0.001    -10.973      0.000      -0.010      -0.007\n",
      "coef       -5792.0290   1123.657     -5.155      0.000   -7994.754   -3589.304\n",
      "AT**2         -0.0024      0.003     -0.929      0.353      -0.007       0.003\n",
      "V**2          -0.0024      0.000     -5.852      0.000      -0.003      -0.002\n",
      "AP**2         -0.0054      0.001     -4.920      0.000      -0.008      -0.003\n",
      "RH**2         -0.0058      0.000    -23.582      0.000      -0.006      -0.005\n",
      "==============================================================================\n",
      "Omnibus:                      398.148   Durbin-Watson:                   1.976\n",
      "Prob(Omnibus):                  0.000   Jarque-Bera (JB):             1304.660\n",
      "Skew:                          -0.249   Prob(JB):                    4.97e-284\n",
      "Kurtosis:                       5.104   Cond. No.                     2.14e+10\n",
      "==============================================================================\n",
      "\n",
      "Notes:\n",
      "[1] Standard Errors assume that the covariance matrix of the errors is correctly specified.\n",
      "[2] The condition number is large, 2.14e+10. This might indicate that there are\n",
      "strong multicollinearity or other numerical problems.\n"
     ]
    }
   ],
   "source": [
    "x=df4.drop('PE',axis=1)\n",
    "y=df4.PE\n",
    "X_train, X_test, Y_train, Y_test = train_test_split(x, y, test_size=0.3)\n",
    "\n",
    "results=sm.OLS(Y_train,X_train).fit()\n",
    "print(results.summary())\n",
    "coef_result=results.params"
   ]
  },
  {
   "cell_type": "code",
   "execution_count": 166,
   "metadata": {},
   "outputs": [
    {
     "name": "stdout",
     "output_type": "stream",
     "text": [
      "The MSE for the updated testing set is 21.313929404895237\n"
     ]
    }
   ],
   "source": [
    "y_pred_dropped=results.predict(X_test)\n",
    "MSE = mean_squared_error(Y_test,y_pred_dropped)\n",
    "print(f\"The MSE for the updated testing set is {MSE}\")"
   ]
  },
  {
   "cell_type": "code",
   "execution_count": 167,
   "metadata": {},
   "outputs": [
    {
     "name": "stdout",
     "output_type": "stream",
     "text": [
      "The MSE for the updated training set is 19.613411155440026\n"
     ]
    }
   ],
   "source": [
    "y_pred_train_dropped=results.predict(X_train)\n",
    "MSE_train_dropped = mean_squared_error(Y_train,y_pred_train_dropped)\n",
    "print(f\"The MSE for the updated training set is {MSE_train_dropped}\")"
   ]
  },
  {
   "cell_type": "markdown",
   "metadata": {},
   "source": [
    "## (i)"
   ]
  },
  {
   "cell_type": "code",
   "execution_count": 96,
   "metadata": {},
   "outputs": [],
   "source": [
    "# KNN using raw features for testing set"
   ]
  },
  {
   "cell_type": "code",
   "execution_count": 97,
   "metadata": {},
   "outputs": [],
   "source": [
    "from sklearn.neighbors import KNeighborsRegressor"
   ]
  },
  {
   "cell_type": "code",
   "execution_count": 98,
   "metadata": {},
   "outputs": [],
   "source": [
    "x=df4.drop('PE',axis=1)\n",
    "y=df4.PE\n",
    "X_train, X_test, Y_train, Y_test = train_test_split(x, y, test_size=0.3)"
   ]
  },
  {
   "cell_type": "code",
   "execution_count": 99,
   "metadata": {},
   "outputs": [],
   "source": [
    "MSE_table=[]\n",
    "for k in range(1,101,1):\n",
    "    knn=KNeighborsRegressor(n_neighbors=k,p=2)\n",
    "    knn.fit(X_train,Y_train)\n",
    "    y_pred=knn.predict(X_test)\n",
    "    MSE=mean_squared_error(Y_test,y_pred)\n",
    "    MSE_table.append([k,MSE])"
   ]
  },
  {
   "cell_type": "code",
   "execution_count": 100,
   "metadata": {},
   "outputs": [],
   "source": [
    "MSE_table=pd.DataFrame(MSE_table)\n",
    "MSE_table.columns=['k','MSE']\n",
    "min_MSE=MSE_table.MSE.min()"
   ]
  },
  {
   "cell_type": "code",
   "execution_count": 101,
   "metadata": {},
   "outputs": [
    {
     "data": {
      "text/html": [
       "<div>\n",
       "<style scoped>\n",
       "    .dataframe tbody tr th:only-of-type {\n",
       "        vertical-align: middle;\n",
       "    }\n",
       "\n",
       "    .dataframe tbody tr th {\n",
       "        vertical-align: top;\n",
       "    }\n",
       "\n",
       "    .dataframe thead th {\n",
       "        text-align: right;\n",
       "    }\n",
       "</style>\n",
       "<table border=\"1\" class=\"dataframe\">\n",
       "  <thead>\n",
       "    <tr style=\"text-align: right;\">\n",
       "      <th></th>\n",
       "      <th>k</th>\n",
       "      <th>MSE</th>\n",
       "    </tr>\n",
       "  </thead>\n",
       "  <tbody>\n",
       "    <tr>\n",
       "      <th>7</th>\n",
       "      <td>8</td>\n",
       "      <td>21.07404</td>\n",
       "    </tr>\n",
       "  </tbody>\n",
       "</table>\n",
       "</div>"
      ],
      "text/plain": [
       "   k       MSE\n",
       "7  8  21.07404"
      ]
     },
     "execution_count": 101,
     "metadata": {},
     "output_type": "execute_result"
    }
   ],
   "source": [
    "MSE_table[MSE_table.MSE==min_MSE]"
   ]
  },
  {
   "cell_type": "code",
   "execution_count": 102,
   "metadata": {},
   "outputs": [],
   "source": [
    "y_pred=knn.predict(X_test)"
   ]
  },
  {
   "cell_type": "code",
   "execution_count": 103,
   "metadata": {},
   "outputs": [
    {
     "data": {
      "text/plain": [
       "29.762675990926503"
      ]
     },
     "execution_count": 103,
     "metadata": {},
     "output_type": "execute_result"
    }
   ],
   "source": [
    "MSE=mean_squared_error(Y_test,y_pred)\n",
    "MSE"
   ]
  },
  {
   "cell_type": "code",
   "execution_count": 104,
   "metadata": {},
   "outputs": [
    {
     "data": {
      "text/plain": [
       "Text(0.5, 1.0, 'Testing error for raw features')"
      ]
     },
     "execution_count": 104,
     "metadata": {},
     "output_type": "execute_result"
    },
    {
     "data": {
      "image/png": "[encoded data removed]",
      "text/plain": [
       "<Figure size 432x288 with 1 Axes>"
      ]
     },
     "metadata": {
      "needs_background": "light"
     },
     "output_type": "display_data"
    }
   ],
   "source": [
    "plt.scatter(x=(1/MSE_table.k),y=MSE_table.MSE)\n",
    "plt.xlabel('1/k')\n",
    "plt.ylabel('Mean Squared Error')\n",
    "plt.title('Testing error for raw features')"
   ]
  },
  {
   "cell_type": "code",
   "execution_count": 105,
   "metadata": {},
   "outputs": [],
   "source": [
    "# Knn using raw features for training set"
   ]
  },
  {
   "cell_type": "code",
   "execution_count": 106,
   "metadata": {},
   "outputs": [],
   "source": [
    "x=df4.drop('PE',axis=1)\n",
    "y=df4.PE\n",
    "X_train, X_test, Y_train, Y_test = train_test_split(x, y, test_size=0.3)"
   ]
  },
  {
   "cell_type": "code",
   "execution_count": 107,
   "metadata": {},
   "outputs": [],
   "source": [
    "MSE_table_train=[]\n",
    "for k in range(1,101,1):\n",
    "    knn=KNeighborsRegressor(n_neighbors=k,p=2)\n",
    "    knn.fit(X_train,Y_train)\n",
    "    y_pred=knn.predict(X_train)\n",
    "    MSE=mean_squared_error(Y_train,y_pred)\n",
    "    MSE_table_train.append([k,MSE])"
   ]
  },
  {
   "cell_type": "code",
   "execution_count": 108,
   "metadata": {},
   "outputs": [],
   "source": [
    "MSE_table_train=pd.DataFrame(MSE_table_train)\n",
    "MSE_table_train.columns=['k','MSE']\n",
    "min_MSE=MSE_table_train.MSE.min()\n"
   ]
  },
  {
   "cell_type": "code",
   "execution_count": 109,
   "metadata": {},
   "outputs": [
    {
     "data": {
      "text/html": [
       "<div>\n",
       "<style scoped>\n",
       "    .dataframe tbody tr th:only-of-type {\n",
       "        vertical-align: middle;\n",
       "    }\n",
       "\n",
       "    .dataframe tbody tr th {\n",
       "        vertical-align: top;\n",
       "    }\n",
       "\n",
       "    .dataframe thead th {\n",
       "        text-align: right;\n",
       "    }\n",
       "</style>\n",
       "<table border=\"1\" class=\"dataframe\">\n",
       "  <thead>\n",
       "    <tr style=\"text-align: right;\">\n",
       "      <th></th>\n",
       "      <th>k</th>\n",
       "      <th>MSE</th>\n",
       "    </tr>\n",
       "  </thead>\n",
       "  <tbody>\n",
       "    <tr>\n",
       "      <th>0</th>\n",
       "      <td>1</td>\n",
       "      <td>0.0</td>\n",
       "    </tr>\n",
       "  </tbody>\n",
       "</table>\n",
       "</div>"
      ],
      "text/plain": [
       "   k  MSE\n",
       "0  1  0.0"
      ]
     },
     "execution_count": 109,
     "metadata": {},
     "output_type": "execute_result"
    }
   ],
   "source": [
    "MSE_table_train[MSE_table_train.MSE==min_MSE]\n",
    "\n"
   ]
  },
  {
   "cell_type": "code",
   "execution_count": 110,
   "metadata": {},
   "outputs": [
    {
     "data": {
      "text/plain": [
       "Text(0.5, 1.0, 'Training error for raw features')"
      ]
     },
     "execution_count": 110,
     "metadata": {},
     "output_type": "execute_result"
    },
    {
     "data": {
      "image/png": "[encoded data removed]",
      "text/plain": [
       "<Figure size 432x288 with 1 Axes>"
      ]
     },
     "metadata": {
      "needs_background": "light"
     },
     "output_type": "display_data"
    }
   ],
   "source": [
    "plt.scatter(x=(1/MSE_table_train.k),y=MSE_table_train.MSE)\n",
    "plt.xlabel('1/k')\n",
    "plt.ylabel('Mean Squared Error')\n",
    "plt.title('Training error for raw features')"
   ]
  },
  {
   "cell_type": "code",
   "execution_count": 111,
   "metadata": {},
   "outputs": [
    {
     "data": {
      "text/plain": [
       "29.6960739225148"
      ]
     },
     "execution_count": 111,
     "metadata": {},
     "output_type": "execute_result"
    }
   ],
   "source": [
    "y_pred=knn.predict(X_test)\n",
    "MSE=mean_squared_error(Y_test,y_pred)\n",
    "MSE"
   ]
  },
  {
   "cell_type": "code",
   "execution_count": 112,
   "metadata": {},
   "outputs": [],
   "source": [
    "# Knn using normalized features for testing set"
   ]
  },
  {
   "cell_type": "code",
   "execution_count": 113,
   "metadata": {},
   "outputs": [],
   "source": [
    "x=df4.drop('PE',axis=1)\n",
    "y=df4.PE\n",
    "x=preprocessing.normalize(x)\n",
    "X_train, X_test, Y_train, Y_test = train_test_split(x, y, test_size=0.3)"
   ]
  },
  {
   "cell_type": "code",
   "execution_count": 114,
   "metadata": {},
   "outputs": [],
   "source": [
    "MSE_table_nor=[]\n",
    "for k in range(1,101,1):\n",
    "    knn=KNeighborsRegressor(n_neighbors=k,p=2)\n",
    "    knn.fit(X_train,Y_train)\n",
    "    y_pred=knn.predict(X_test)\n",
    "    MSE=mean_squared_error(Y_test,y_pred)\n",
    "    MSE_table_nor.append([k,MSE])"
   ]
  },
  {
   "cell_type": "code",
   "execution_count": 115,
   "metadata": {},
   "outputs": [],
   "source": [
    "MSE_table_nor=pd.DataFrame(MSE_table_nor)\n",
    "MSE_table_nor.columns=['k','MSE']\n",
    "min_MSE=MSE_table_nor.MSE.min()"
   ]
  },
  {
   "cell_type": "code",
   "execution_count": 116,
   "metadata": {},
   "outputs": [
    {
     "data": {
      "text/html": [
       "<div>\n",
       "<style scoped>\n",
       "    .dataframe tbody tr th:only-of-type {\n",
       "        vertical-align: middle;\n",
       "    }\n",
       "\n",
       "    .dataframe tbody tr th {\n",
       "        vertical-align: top;\n",
       "    }\n",
       "\n",
       "    .dataframe thead th {\n",
       "        text-align: right;\n",
       "    }\n",
       "</style>\n",
       "<table border=\"1\" class=\"dataframe\">\n",
       "  <thead>\n",
       "    <tr style=\"text-align: right;\">\n",
       "      <th></th>\n",
       "      <th>k</th>\n",
       "      <th>MSE</th>\n",
       "    </tr>\n",
       "  </thead>\n",
       "  <tbody>\n",
       "    <tr>\n",
       "      <th>24</th>\n",
       "      <td>25</td>\n",
       "      <td>20.510331</td>\n",
       "    </tr>\n",
       "  </tbody>\n",
       "</table>\n",
       "</div>"
      ],
      "text/plain": [
       "     k        MSE\n",
       "24  25  20.510331"
      ]
     },
     "execution_count": 116,
     "metadata": {},
     "output_type": "execute_result"
    }
   ],
   "source": [
    "MSE_table_nor[MSE_table_nor.MSE==min_MSE]"
   ]
  },
  {
   "cell_type": "code",
   "execution_count": 117,
   "metadata": {},
   "outputs": [
    {
     "data": {
      "text/plain": [
       "Text(0.5, 1.0, 'Testing error for normalized features')"
      ]
     },
     "execution_count": 117,
     "metadata": {},
     "output_type": "execute_result"
    },
    {
     "data": {
      "image/png": "[encoded data removed]",
      "text/plain": [
       "<Figure size 432x288 with 1 Axes>"
      ]
     },
     "metadata": {
      "needs_background": "light"
     },
     "output_type": "display_data"
    }
   ],
   "source": [
    "plt.scatter(x=(1/MSE_table_nor.k),y=MSE_table_nor.MSE)\n",
    "plt.xlabel('1/k')\n",
    "plt.ylabel('Mean Squared Error')\n",
    "plt.title('Testing error for normalized features')"
   ]
  },
  {
   "cell_type": "code",
   "execution_count": 118,
   "metadata": {},
   "outputs": [],
   "source": [
    "# Knn using normalized features for training set"
   ]
  },
  {
   "cell_type": "code",
   "execution_count": 119,
   "metadata": {},
   "outputs": [],
   "source": [
    "x=df4.drop('PE',axis=1)\n",
    "y=df4.PE\n",
    "x=preprocessing.normalize(x)\n",
    "X_train, X_test, Y_train, Y_test = train_test_split(x, y, test_size=0.3)"
   ]
  },
  {
   "cell_type": "code",
   "execution_count": 120,
   "metadata": {},
   "outputs": [],
   "source": [
    "MSE_table_nor_train=[]\n",
    "for k in range(1,101,1):\n",
    "    knn=KNeighborsRegressor(n_neighbors=k,p=2)\n",
    "    knn.fit(X_train,Y_train)\n",
    "    y_pred=knn.predict(X_train)\n",
    "    MSE=mean_squared_error(Y_train,y_pred)\n",
    "    MSE_table_nor_train.append([k,MSE])"
   ]
  },
  {
   "cell_type": "code",
   "execution_count": 121,
   "metadata": {},
   "outputs": [],
   "source": [
    "MSE_table_nor_train=pd.DataFrame(MSE_table_nor_train)\n",
    "MSE_table_nor_train.columns=['k','MSE']\n",
    "min_MSE=MSE_table_nor_train.MSE.min()"
   ]
  },
  {
   "cell_type": "code",
   "execution_count": 122,
   "metadata": {},
   "outputs": [
    {
     "data": {
      "text/html": [
       "<div>\n",
       "<style scoped>\n",
       "    .dataframe tbody tr th:only-of-type {\n",
       "        vertical-align: middle;\n",
       "    }\n",
       "\n",
       "    .dataframe tbody tr th {\n",
       "        vertical-align: top;\n",
       "    }\n",
       "\n",
       "    .dataframe thead th {\n",
       "        text-align: right;\n",
       "    }\n",
       "</style>\n",
       "<table border=\"1\" class=\"dataframe\">\n",
       "  <thead>\n",
       "    <tr style=\"text-align: right;\">\n",
       "      <th></th>\n",
       "      <th>k</th>\n",
       "      <th>MSE</th>\n",
       "    </tr>\n",
       "  </thead>\n",
       "  <tbody>\n",
       "    <tr>\n",
       "      <th>0</th>\n",
       "      <td>1</td>\n",
       "      <td>0.0</td>\n",
       "    </tr>\n",
       "  </tbody>\n",
       "</table>\n",
       "</div>"
      ],
      "text/plain": [
       "   k  MSE\n",
       "0  1  0.0"
      ]
     },
     "execution_count": 122,
     "metadata": {},
     "output_type": "execute_result"
    }
   ],
   "source": [
    "MSE_table_nor_train[MSE_table_nor_train.MSE==min_MSE]"
   ]
  },
  {
   "cell_type": "code",
   "execution_count": 123,
   "metadata": {},
   "outputs": [
    {
     "data": {
      "text/plain": [
       "Text(0.5, 1.0, 'Testing error for normalized features')"
      ]
     },
     "execution_count": 123,
     "metadata": {},
     "output_type": "execute_result"
    },
    {
     "data": {
      "image/png": "[encoded data removed]",
      "text/plain": [
       "<Figure size 432x288 with 1 Axes>"
      ]
     },
     "metadata": {
      "needs_background": "light"
     },
     "output_type": "display_data"
    }
   ],
   "source": [
    "plt.scatter(x=(1/MSE_table_nor.k),y=MSE_table_nor.MSE)\n",
    "plt.xlabel('1/k')\n",
    "plt.ylabel('Mean Squared Error')\n",
    "plt.title('Testing error for normalized features')"
   ]
  },
  {
   "cell_type": "markdown",
   "metadata": {},
   "source": [
    "## (j)"
   ]
  },
  {
   "cell_type": "code",
   "execution_count": 168,
   "metadata": {},
   "outputs": [
    {
     "name": "stdout",
     "output_type": "stream",
     "text": [
      "The smallest test error gained from linear regression is 18.05, where interactions and quadratic nonlinearities are taken into account.\n",
      "The smallest test error gained from KNN is 20.16, where data is normalized.\n",
      "We can conclude that linear regression is a better model in this case study.\n"
     ]
    }
   ],
   "source": [
    "print('The smallest test error gained from linear regression is 18.05, where interactions and quadratic nonlinearities are taken into account.')\n",
    "print('The smallest test error gained from KNN is 20.16, where data is normalized.')\n",
    "print('We can conclude that linear regression is a better model in this case study.')"
   ]
  },
  {
   "cell_type": "markdown",
   "metadata": {},
   "source": [
    "# 2 and 3"
   ]
  },
  {
   "cell_type": "code",
   "execution_count": 3,
   "metadata": {},
   "outputs": [],
   "source": [
    "img=image.imread('552_HW2.jpeg')"
   ]
  },
  {
   "cell_type": "code",
   "execution_count": 5,
   "metadata": {},
   "outputs": [
    {
     "data": {
      "image/png": "[encoded data removed]",
      "text/plain": [
       "<Figure size 432x288 with 1 Axes>"
      ]
     },
     "metadata": {
      "needs_background": "light"
     },
     "output_type": "display_data"
    }
   ],
   "source": [
    "plt.imshow(img)\n",
    "\n",
    "plt.show()"
   ]
  },
  {
   "cell_type": "code",
   "execution_count": null,
   "metadata": {},
   "outputs": [],
   "source": []
  }
 ],
 "metadata": {
  "kernelspec": {
   "display_name": "Python 3",
   "language": "python",
   "name": "python3"
  },
  "language_info": {
   "codemirror_mode": {
    "name": "ipython",
    "version": 3
   },
   "file_extension": ".py",
   "mimetype": "text/x-python",
   "name": "python",
   "nbconvert_exporter": "python",
   "pygments_lexer": "ipython3",
   "version": "3.8.5"
  }
 },
 "nbformat": 4,
 "nbformat_minor": 4
}
