{
 "cells": [
  {
   "cell_type": "code",
   "execution_count": 1,
   "metadata": {},
   "outputs": [],
   "source": [
    "import pandas as pd\n",
    "from selenium import webdriver\n",
    "from selenium.webdriver.common.keys import Keys\n",
    "from selenium.webdriver.common.by import By\n",
    "import time\n",
    "from selenium.common.exceptions import NoSuchElementException\n",
    "import re\n",
    "from selenium.common.exceptions import TimeoutException"
   ]
  },
  {
   "cell_type": "code",
   "execution_count": 2,
   "metadata": {},
   "outputs": [],
   "source": [
    "url='https://mjl.clarivate.com/mjl-beta/search-results'"
   ]
  },
  {
   "cell_type": "code",
   "execution_count": 3,
   "metadata": {},
   "outputs": [
    {
     "name": "stderr",
     "output_type": "stream",
     "text": [
      "<ipython-input-3-9beeb525943b>:1: DeprecationWarning: executable_path has been deprecated, please pass in a Service object\n",
      "  driver=webdriver.Chrome('C:/Users/User/web_scrape/chromedriver.exe')\n"
     ]
    }
   ],
   "source": [
    "driver=webdriver.Chrome('C:/Users/User/web_scrape/chromedriver.exe')"
   ]
  },
  {
   "cell_type": "code",
   "execution_count": 4,
   "metadata": {},
   "outputs": [],
   "source": [
    "driver.get(url)"
   ]
  },
  {
   "cell_type": "code",
   "execution_count": 5,
   "metadata": {},
   "outputs": [
    {
     "name": "stderr",
     "output_type": "stream",
     "text": [
      "<ipython-input-5-32143c3c9c69>:1: DeprecationWarning: find_element_by_xpath is deprecated. Please use find_element(by=By.XPATH, value=xpath) instead\n",
      "  login=driver.find_element_by_xpath('//mat-toolbar[@class=\"mat-toolbar mat-toolbar-single-row\"]//button[@class=\"cdx-but-xl mat-stroked-button mat-button-base mat-primary ng-star-inserted\"]')\n"
     ]
    }
   ],
   "source": [
    "login=driver.find_element_by_xpath('//mat-toolbar[@class=\"mat-toolbar mat-toolbar-single-row\"]//button[@class=\"cdx-but-xl mat-stroked-button mat-button-base mat-primary ng-star-inserted\"]')"
   ]
  },
  {
   "cell_type": "code",
   "execution_count": 6,
   "metadata": {},
   "outputs": [],
   "source": [
    "login.click()"
   ]
  },
  {
   "cell_type": "markdown",
   "metadata": {},
   "source": [
    "### Unable to locate login location, login manually"
   ]
  },
  {
   "cell_type": "code",
   "execution_count": 7,
   "metadata": {},
   "outputs": [],
   "source": [
    "driver.get(url)"
   ]
  },
  {
   "cell_type": "code",
   "execution_count": 8,
   "metadata": {},
   "outputs": [
    {
     "name": "stderr",
     "output_type": "stream",
     "text": [
      "<ipython-input-8-c85841029b71>:1: DeprecationWarning: find_elements_by_xpath is deprecated. Please use find_elements(by=By.XPATH, value=xpath) instead\n",
      "  profile_list=driver.find_elements_by_xpath('//mat-sidenav-content[@class=\"mat-drawer-content mat-sidenav-content\"]//div[@class=\"ng-star-inserted\"]//div[@class=\"ng-star-inserted\"]//mat-card')\n"
     ]
    },
    {
     "data": {
      "text/plain": [
       "10"
      ]
     },
     "execution_count": 8,
     "metadata": {},
     "output_type": "execute_result"
    }
   ],
   "source": [
    "profile_list=driver.find_elements_by_xpath('//mat-sidenav-content[@class=\"mat-drawer-content mat-sidenav-content\"]//div[@class=\"ng-star-inserted\"]//div[@class=\"ng-star-inserted\"]//mat-card')\n",
    "len(profile_list)"
   ]
  },
  {
   "cell_type": "code",
   "execution_count": 9,
   "metadata": {},
   "outputs": [
    {
     "name": "stderr",
     "output_type": "stream",
     "text": [
      "<ipython-input-9-d0589001955d>:1: DeprecationWarning: find_element_by_xpath is deprecated. Please use find_element(by=By.XPATH, value=xpath) instead\n",
      "  view_profile=profile_list[0].find_element_by_xpath('//button[@class=\"cdx-but-xl mat-stroked-button mat-button-base mat-primary ng-star-inserted\"]')\n"
     ]
    }
   ],
   "source": [
    "view_profile=profile_list[0].find_element_by_xpath('//button[@class=\"cdx-but-xl mat-stroked-button mat-button-base mat-primary ng-star-inserted\"]')"
   ]
  },
  {
   "cell_type": "code",
   "execution_count": 10,
   "metadata": {},
   "outputs": [],
   "source": [
    "view_profile.send_keys(Keys.CONTROL,Keys.ENTER)\n",
    "time.sleep(2)"
   ]
  },
  {
   "cell_type": "code",
   "execution_count": 14,
   "metadata": {},
   "outputs": [
    {
     "name": "stderr",
     "output_type": "stream",
     "text": [
      "<ipython-input-14-4702db1180d8>:1: DeprecationWarning: find_element_by_xpath is deprecated. Please use find_element(by=By.XPATH, value=xpath) instead\n",
      "  title=driver.find_element_by_xpath('//mat-card-header[@class=\"mat-card-header\"]//mat-card-title//b').text\n",
      "<ipython-input-14-4702db1180d8>:2: DeprecationWarning: find_element_by_xpath is deprecated. Please use find_element(by=By.XPATH, value=xpath) instead\n",
      "  issn=driver.find_element_by_xpath('//mat-card-content[@class=\"mat-card-content\"]//b[@class=\"ng-star-inserted\"]').text\n",
      "<ipython-input-14-4702db1180d8>:3: DeprecationWarning: find_element_by_xpath is deprecated. Please use find_element(by=By.XPATH, value=xpath) instead\n",
      "  category=driver.find_element_by_xpath('//mat-card-content[@class=\"mat-card-content\"]//div[@class=\"subcard-all\"]//tbody[@role=\"rowgroup\"]//tr[@class=\"mat-row ng-star-inserted\"]//td[3]').text\n"
     ]
    },
    {
     "data": {
      "text/plain": [
       "'History'"
      ]
     },
     "execution_count": 14,
     "metadata": {},
     "output_type": "execute_result"
    }
   ],
   "source": [
    "title=driver.find_element_by_xpath('//mat-card-header[@class=\"mat-card-header\"]//mat-card-title//b').text\n",
    "issn=driver.find_element_by_xpath('//mat-card-content[@class=\"mat-card-content\"]//b[@class=\"ng-star-inserted\"]').text\n",
    "category=driver.find_element_by_xpath('//mat-card-content[@class=\"mat-card-content\"]//div[@class=\"subcard-all\"]//tbody[@role=\"rowgroup\"]//tr[@class=\"mat-row ng-star-inserted\"]//td[3]').text\n",
    "category"
   ]
  },
  {
   "cell_type": "code",
   "execution_count": 16,
   "metadata": {},
   "outputs": [
    {
     "data": {
      "text/html": [
       "<div>\n",
       "<style scoped>\n",
       "    .dataframe tbody tr th:only-of-type {\n",
       "        vertical-align: middle;\n",
       "    }\n",
       "\n",
       "    .dataframe tbody tr th {\n",
       "        vertical-align: top;\n",
       "    }\n",
       "\n",
       "    .dataframe thead th {\n",
       "        text-align: right;\n",
       "    }\n",
       "</style>\n",
       "<table border=\"1\" class=\"dataframe\">\n",
       "  <thead>\n",
       "    <tr style=\"text-align: right;\">\n",
       "      <th></th>\n",
       "      <th>Title</th>\n",
       "      <th>ISSN</th>\n",
       "      <th>Category</th>\n",
       "    </tr>\n",
       "  </thead>\n",
       "  <tbody>\n",
       "    <tr>\n",
       "      <th>0</th>\n",
       "      <td>20 ET 21-REVUE D HISTOIRE</td>\n",
       "      <td>2649-664X / 2649-6100</td>\n",
       "      <td>History</td>\n",
       "    </tr>\n",
       "  </tbody>\n",
       "</table>\n",
       "</div>"
      ],
      "text/plain": [
       "                       Title                   ISSN Category\n",
       "0  20 ET 21-REVUE D HISTOIRE  2649-664X / 2649-6100  History"
      ]
     },
     "execution_count": 16,
     "metadata": {},
     "output_type": "execute_result"
    }
   ],
   "source": [
    "df=pd.DataFrame(columns=['Title','ISSN','Category'])\n",
    "df=df.append({'Title':title,'ISSN':issn,'Category':category},ignore_index=True)\n",
    "df"
   ]
  },
  {
   "cell_type": "code",
   "execution_count": null,
   "metadata": {},
   "outputs": [],
   "source": []
  },
  {
   "cell_type": "code",
   "execution_count": 38,
   "metadata": {},
   "outputs": [],
   "source": [
    "driver.back()"
   ]
  }
 ],
 "metadata": {
  "kernelspec": {
   "display_name": "Python 3",
   "language": "python",
   "name": "python3"
  },
  "language_info": {
   "codemirror_mode": {
    "name": "ipython",
    "version": 3
   },
   "file_extension": ".py",
   "mimetype": "text/x-python",
   "name": "python",
   "nbconvert_exporter": "python",
   "pygments_lexer": "ipython3",
   "version": "3.8.5"
  }
 },
 "nbformat": 4,
 "nbformat_minor": 4
}
